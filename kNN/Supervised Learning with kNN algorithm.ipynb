{
 "cells": [
  {
   "cell_type": "markdown",
   "metadata": {},
   "source": [
    "# Lab 5: Supervised Learning - k-Nearest Neighbor (kNN) Algorithm \n",
    "\n",
    "In this lab, we will make first steps in doing supervised learning. in particular, we will learn about the k-Nearest Neighbor (kNN) algorithm. kNN uses a simple idea: \"you are what your neighbors are\". This idea work quite well in data science. In the first part of the lab, we will cover some background needed to understand the kNN algorithm. In the second part, you will be asked to apply your knowledge on another data set. \n",
    "\n",
    "## Lab 5.A: kNN Tutorial with Questions (30% of grade)\n",
    "\n",
    "As usual, let us start by importing the needed libraries. We will continue using the sklearn library, which implements many of the most popular data science algorithms. "
   ]
  },
  {
   "cell_type": "code",
   "execution_count": 276,
   "metadata": {},
   "outputs": [],
   "source": [
    "import numpy as np\n",
    "import matplotlib.pyplot as plt\n",
    "from matplotlib.colors import ListedColormap\n",
    "from sklearn import neighbors, datasets"
   ]
  },
  {
   "cell_type": "markdown",
   "metadata": {},
   "source": [
    "Let us load the Iris data set using a sklearn function `load_iris`."
   ]
  },
  {
   "cell_type": "code",
   "execution_count": 277,
   "metadata": {},
   "outputs": [],
   "source": [
    "iris = datasets.load_iris()"
   ]
  },
  {
   "cell_type": "markdown",
   "metadata": {},
   "source": [
    "As you can see from http://scikit-learn.org/stable/modules/generated/sklearn.datasets.load_iris.html, `iris` is an object with attributes `data` (a 150x4 matrix, where $i$-th row are 4 attributes of the $i$-th flower), `feature_names` (the names of the 4 attributes -- remember that in data science \"attribute\" and \"feature\" means the same thing), `target` (a vector of length 150, where $i$-th number is the type of the $i$-th flower -- in data science people often say \"label\" instead of \"target\"), `target_names` (these are strings explaining what each of the 3 types of flowers are), and `DESCR` (giving some information about the Iris data set). Let us list them all "
   ]
  },
  {
   "cell_type": "code",
   "execution_count": 278,
   "metadata": {},
   "outputs": [
    {
     "name": "stdout",
     "output_type": "stream",
     "text": [
      ".. _iris_dataset:\n",
      "\n",
      "Iris plants dataset\n",
      "--------------------\n",
      "\n",
      "**Data Set Characteristics:**\n",
      "\n",
      "    :Number of Instances: 150 (50 in each of three classes)\n",
      "    :Number of Attributes: 4 numeric, predictive attributes and the class\n",
      "    :Attribute Information:\n",
      "        - sepal length in cm\n",
      "        - sepal width in cm\n",
      "        - petal length in cm\n",
      "        - petal width in cm\n",
      "        - class:\n",
      "                - Iris-Setosa\n",
      "                - Iris-Versicolour\n",
      "                - Iris-Virginica\n",
      "                \n",
      "    :Summary Statistics:\n",
      "\n",
      "    ============== ==== ==== ======= ===== ====================\n",
      "                    Min  Max   Mean    SD   Class Correlation\n",
      "    ============== ==== ==== ======= ===== ====================\n",
      "    sepal length:   4.3  7.9   5.84   0.83    0.7826\n",
      "    sepal width:    2.0  4.4   3.05   0.43   -0.4194\n",
      "    petal length:   1.0  6.9   3.76   1.76    0.9490  (high!)\n",
      "    petal width:    0.1  2.5   1.20   0.76    0.9565  (high!)\n",
      "    ============== ==== ==== ======= ===== ====================\n",
      "\n",
      "    :Missing Attribute Values: None\n",
      "    :Class Distribution: 33.3% for each of 3 classes.\n",
      "    :Creator: R.A. Fisher\n",
      "    :Donor: Michael Marshall (MARSHALL%PLU@io.arc.nasa.gov)\n",
      "    :Date: July, 1988\n",
      "\n",
      "The famous Iris database, first used by Sir R.A. Fisher. The dataset is taken\n",
      "from Fisher's paper. Note that it's the same as in R, but not as in the UCI\n",
      "Machine Learning Repository, which has two wrong data points.\n",
      "\n",
      "This is perhaps the best known database to be found in the\n",
      "pattern recognition literature.  Fisher's paper is a classic in the field and\n",
      "is referenced frequently to this day.  (See Duda & Hart, for example.)  The\n",
      "data set contains 3 classes of 50 instances each, where each class refers to a\n",
      "type of iris plant.  One class is linearly separable from the other 2; the\n",
      "latter are NOT linearly separable from each other.\n",
      "\n",
      ".. topic:: References\n",
      "\n",
      "   - Fisher, R.A. \"The use of multiple measurements in taxonomic problems\"\n",
      "     Annual Eugenics, 7, Part II, 179-188 (1936); also in \"Contributions to\n",
      "     Mathematical Statistics\" (John Wiley, NY, 1950).\n",
      "   - Duda, R.O., & Hart, P.E. (1973) Pattern Classification and Scene Analysis.\n",
      "     (Q327.D83) John Wiley & Sons.  ISBN 0-471-22361-1.  See page 218.\n",
      "   - Dasarathy, B.V. (1980) \"Nosing Around the Neighborhood: A New System\n",
      "     Structure and Classification Rule for Recognition in Partially Exposed\n",
      "     Environments\".  IEEE Transactions on Pattern Analysis and Machine\n",
      "     Intelligence, Vol. PAMI-2, No. 1, 67-71.\n",
      "   - Gates, G.W. (1972) \"The Reduced Nearest Neighbor Rule\".  IEEE Transactions\n",
      "     on Information Theory, May 1972, 431-433.\n",
      "   - See also: 1988 MLC Proceedings, 54-64.  Cheeseman et al\"s AUTOCLASS II\n",
      "     conceptual clustering system finds 3 classes in the data.\n",
      "   - Many, many more ...\n",
      "[[5.1 3.5 1.4 0.2]\n",
      " [4.9 3.  1.4 0.2]\n",
      " [4.7 3.2 1.3 0.2]\n",
      " [4.6 3.1 1.5 0.2]\n",
      " [5.  3.6 1.4 0.2]\n",
      " [5.4 3.9 1.7 0.4]\n",
      " [4.6 3.4 1.4 0.3]\n",
      " [5.  3.4 1.5 0.2]\n",
      " [4.4 2.9 1.4 0.2]\n",
      " [4.9 3.1 1.5 0.1]\n",
      " [5.4 3.7 1.5 0.2]\n",
      " [4.8 3.4 1.6 0.2]\n",
      " [4.8 3.  1.4 0.1]\n",
      " [4.3 3.  1.1 0.1]\n",
      " [5.8 4.  1.2 0.2]\n",
      " [5.7 4.4 1.5 0.4]\n",
      " [5.4 3.9 1.3 0.4]\n",
      " [5.1 3.5 1.4 0.3]\n",
      " [5.7 3.8 1.7 0.3]\n",
      " [5.1 3.8 1.5 0.3]\n",
      " [5.4 3.4 1.7 0.2]\n",
      " [5.1 3.7 1.5 0.4]\n",
      " [4.6 3.6 1.  0.2]\n",
      " [5.1 3.3 1.7 0.5]\n",
      " [4.8 3.4 1.9 0.2]\n",
      " [5.  3.  1.6 0.2]\n",
      " [5.  3.4 1.6 0.4]\n",
      " [5.2 3.5 1.5 0.2]\n",
      " [5.2 3.4 1.4 0.2]\n",
      " [4.7 3.2 1.6 0.2]\n",
      " [4.8 3.1 1.6 0.2]\n",
      " [5.4 3.4 1.5 0.4]\n",
      " [5.2 4.1 1.5 0.1]\n",
      " [5.5 4.2 1.4 0.2]\n",
      " [4.9 3.1 1.5 0.2]\n",
      " [5.  3.2 1.2 0.2]\n",
      " [5.5 3.5 1.3 0.2]\n",
      " [4.9 3.6 1.4 0.1]\n",
      " [4.4 3.  1.3 0.2]\n",
      " [5.1 3.4 1.5 0.2]\n",
      " [5.  3.5 1.3 0.3]\n",
      " [4.5 2.3 1.3 0.3]\n",
      " [4.4 3.2 1.3 0.2]\n",
      " [5.  3.5 1.6 0.6]\n",
      " [5.1 3.8 1.9 0.4]\n",
      " [4.8 3.  1.4 0.3]\n",
      " [5.1 3.8 1.6 0.2]\n",
      " [4.6 3.2 1.4 0.2]\n",
      " [5.3 3.7 1.5 0.2]\n",
      " [5.  3.3 1.4 0.2]\n",
      " [7.  3.2 4.7 1.4]\n",
      " [6.4 3.2 4.5 1.5]\n",
      " [6.9 3.1 4.9 1.5]\n",
      " [5.5 2.3 4.  1.3]\n",
      " [6.5 2.8 4.6 1.5]\n",
      " [5.7 2.8 4.5 1.3]\n",
      " [6.3 3.3 4.7 1.6]\n",
      " [4.9 2.4 3.3 1. ]\n",
      " [6.6 2.9 4.6 1.3]\n",
      " [5.2 2.7 3.9 1.4]\n",
      " [5.  2.  3.5 1. ]\n",
      " [5.9 3.  4.2 1.5]\n",
      " [6.  2.2 4.  1. ]\n",
      " [6.1 2.9 4.7 1.4]\n",
      " [5.6 2.9 3.6 1.3]\n",
      " [6.7 3.1 4.4 1.4]\n",
      " [5.6 3.  4.5 1.5]\n",
      " [5.8 2.7 4.1 1. ]\n",
      " [6.2 2.2 4.5 1.5]\n",
      " [5.6 2.5 3.9 1.1]\n",
      " [5.9 3.2 4.8 1.8]\n",
      " [6.1 2.8 4.  1.3]\n",
      " [6.3 2.5 4.9 1.5]\n",
      " [6.1 2.8 4.7 1.2]\n",
      " [6.4 2.9 4.3 1.3]\n",
      " [6.6 3.  4.4 1.4]\n",
      " [6.8 2.8 4.8 1.4]\n",
      " [6.7 3.  5.  1.7]\n",
      " [6.  2.9 4.5 1.5]\n",
      " [5.7 2.6 3.5 1. ]\n",
      " [5.5 2.4 3.8 1.1]\n",
      " [5.5 2.4 3.7 1. ]\n",
      " [5.8 2.7 3.9 1.2]\n",
      " [6.  2.7 5.1 1.6]\n",
      " [5.4 3.  4.5 1.5]\n",
      " [6.  3.4 4.5 1.6]\n",
      " [6.7 3.1 4.7 1.5]\n",
      " [6.3 2.3 4.4 1.3]\n",
      " [5.6 3.  4.1 1.3]\n",
      " [5.5 2.5 4.  1.3]\n",
      " [5.5 2.6 4.4 1.2]\n",
      " [6.1 3.  4.6 1.4]\n",
      " [5.8 2.6 4.  1.2]\n",
      " [5.  2.3 3.3 1. ]\n",
      " [5.6 2.7 4.2 1.3]\n",
      " [5.7 3.  4.2 1.2]\n",
      " [5.7 2.9 4.2 1.3]\n",
      " [6.2 2.9 4.3 1.3]\n",
      " [5.1 2.5 3.  1.1]\n",
      " [5.7 2.8 4.1 1.3]\n",
      " [6.3 3.3 6.  2.5]\n",
      " [5.8 2.7 5.1 1.9]\n",
      " [7.1 3.  5.9 2.1]\n",
      " [6.3 2.9 5.6 1.8]\n",
      " [6.5 3.  5.8 2.2]\n",
      " [7.6 3.  6.6 2.1]\n",
      " [4.9 2.5 4.5 1.7]\n",
      " [7.3 2.9 6.3 1.8]\n",
      " [6.7 2.5 5.8 1.8]\n",
      " [7.2 3.6 6.1 2.5]\n",
      " [6.5 3.2 5.1 2. ]\n",
      " [6.4 2.7 5.3 1.9]\n",
      " [6.8 3.  5.5 2.1]\n",
      " [5.7 2.5 5.  2. ]\n",
      " [5.8 2.8 5.1 2.4]\n",
      " [6.4 3.2 5.3 2.3]\n",
      " [6.5 3.  5.5 1.8]\n",
      " [7.7 3.8 6.7 2.2]\n",
      " [7.7 2.6 6.9 2.3]\n",
      " [6.  2.2 5.  1.5]\n",
      " [6.9 3.2 5.7 2.3]\n",
      " [5.6 2.8 4.9 2. ]\n",
      " [7.7 2.8 6.7 2. ]\n",
      " [6.3 2.7 4.9 1.8]\n",
      " [6.7 3.3 5.7 2.1]\n",
      " [7.2 3.2 6.  1.8]\n",
      " [6.2 2.8 4.8 1.8]\n",
      " [6.1 3.  4.9 1.8]\n",
      " [6.4 2.8 5.6 2.1]\n",
      " [7.2 3.  5.8 1.6]\n",
      " [7.4 2.8 6.1 1.9]\n",
      " [7.9 3.8 6.4 2. ]\n",
      " [6.4 2.8 5.6 2.2]\n",
      " [6.3 2.8 5.1 1.5]\n",
      " [6.1 2.6 5.6 1.4]\n",
      " [7.7 3.  6.1 2.3]\n",
      " [6.3 3.4 5.6 2.4]\n",
      " [6.4 3.1 5.5 1.8]\n",
      " [6.  3.  4.8 1.8]\n",
      " [6.9 3.1 5.4 2.1]\n",
      " [6.7 3.1 5.6 2.4]\n",
      " [6.9 3.1 5.1 2.3]\n",
      " [5.8 2.7 5.1 1.9]\n",
      " [6.8 3.2 5.9 2.3]\n",
      " [6.7 3.3 5.7 2.5]\n",
      " [6.7 3.  5.2 2.3]\n",
      " [6.3 2.5 5.  1.9]\n",
      " [6.5 3.  5.2 2. ]\n",
      " [6.2 3.4 5.4 2.3]\n",
      " [5.9 3.  5.1 1.8]]\n",
      "['sepal length (cm)', 'sepal width (cm)', 'petal length (cm)', 'petal width (cm)']\n",
      "[0 0 0 0 0 0 0 0 0 0 0 0 0 0 0 0 0 0 0 0 0 0 0 0 0 0 0 0 0 0 0 0 0 0 0 0 0\n",
      " 0 0 0 0 0 0 0 0 0 0 0 0 0 1 1 1 1 1 1 1 1 1 1 1 1 1 1 1 1 1 1 1 1 1 1 1 1\n",
      " 1 1 1 1 1 1 1 1 1 1 1 1 1 1 1 1 1 1 1 1 1 1 1 1 1 1 2 2 2 2 2 2 2 2 2 2 2\n",
      " 2 2 2 2 2 2 2 2 2 2 2 2 2 2 2 2 2 2 2 2 2 2 2 2 2 2 2 2 2 2 2 2 2 2 2 2 2\n",
      " 2 2]\n",
      "['setosa' 'versicolor' 'virginica']\n"
     ]
    }
   ],
   "source": [
    "print(iris.DESCR)\n",
    "print(iris.data)\n",
    "print(iris.feature_names)\n",
    "print(iris.target)\n",
    "print(iris.target_names)"
   ]
  },
  {
   "cell_type": "markdown",
   "metadata": {},
   "source": [
    "So, we can see that the attributes of the second flower are `[4.9, 3.0, 1.4, 0.2]`, which means its `sepal_length` is 4.9 cm, `sepal_width` is 3.0 cm, `petal_length` is 1.4 cm, and `petal_width` is 0.2 cm. We will write it matematically as $x_2 = [x_{21}, x_{22}, x_{23}, x_{24}] = [4.9, 3.0, 1.4, 0.2]$. We see that its `target` is 0, which means the type of this iris is `setosa`. We will write it matematically as $y_2 = 0$. All this information was obtained by real botanists who studied iris flowers trying to understand the physical measurements that discriminate between the 3 different types of those flowers.\n",
    "\n",
    "In data science, people like to denote this data set as $D_{Iris} = \\{(x_i, y_i), i = 1, 2 ... 150\\}$, meaning that data set $D_{Iris}$ is a set of 150 labeled examples $(x_i, y_i)$. An alternative is to write $D_{Iris} = \\{X_{Iris}, Y_{Iris}\\}$.\n",
    "\n",
    "### Supervised Learning\n",
    "Supervised learning is a game with the following objective. You are given the iris data set $D_{Iris}$ where you know 4 attributes and target values for 150 irises and your objective is to come up with a computer program that predicts a type of any iris flower given the values of its 4 attributes. Written in pseudocode, this is what you have to do:\n",
    "\n",
    "`predictor = create(algorithm_type, D)\n",
    "y_new = predictor(x_new)`\n",
    "\n",
    "In the first line, you are running a `create` function that takes as input data set `D` and the name of a supervised learning algorithm `algorithm_type` and produces as an output a computer program `predictor`. In the second line, you are using `predictor` to predict the label (`y_new` value) for a flower whose attributes are given by `x_new`.\n",
    "\n",
    "### kNN Algorithm\n",
    "kNN is a popular supervised learning algorithm that allows us to create `predictor`. The idea of kNN is that the label of flower `x_new` depends on labels of flowers in its neighborhood. In particular, kNN finds the distance between `x_new` and every example `x` in data set `D`. Then, it looks at the label `y` of k examples which are the closest to `x_new`. The predicted label `y_new` is obtained as the most common label in the group of the k nearest neighbors.\n",
    "\n",
    "**Parameter choice**. We need to make a few decisions when running kNN. The most important is the choice of `k`. If `k = 1`, then we are looking only at the hearest neighbor and it might not be a good idea if we are dealing with noisy data. If `k` is very large, then we might be counting far neighbors that might have different properties. Other decisions include the choice of distance metric (Euclidean is the standard one) and the choice whether to weight closer neighbors more than the farther ones.\n",
    "\n",
    "**Accuracy**. When deciding which parameters to pick or which supervised learning algorithm to use (there are popular algorithms other than kNN), the question is how to measure which choice is better. The answer is to check if `predictor` provides accurate prediction. Given a data set `D`, a typical way to check accuracy is to randomly split `D` into two data sets, `D_train` and `D_test`. Then, `predictor` is created/trained using `D_train` data set and its accuracy is checked using `D_test`. In particular, we use `predictor` to predict label of every example from `D_test` and compare it with the true labels. The percentage of the correct guesses on `D_test` is reported as accuracy of `predictor`.\n",
    "\n",
    "## kNN Demo\n",
    "The following piece of code is taken from:\n",
    "http://scikit-learn.org/stable/auto_examples/neighbors/plot_classification.html#sphx-glr-auto-examples-neighbors-plot-classification-py. Let us run it."
   ]
  },
  {
   "cell_type": "code",
   "execution_count": 279,
   "metadata": {},
   "outputs": [
    {
     "name": "stdout",
     "output_type": "stream",
     "text": [
      "Iris.data is of type <class 'numpy.ndarray'>\n",
      "The dataset has this dimension  (150, 4)\n",
      "Iris.target is of type <class 'numpy.ndarray'>\n",
      "(150,)\n"
     ]
    }
   ],
   "source": [
    "print(\"Iris.data is of type\", type(iris.data))\n",
    "print(\"The dataset has this dimension \", iris.data.shape)\n",
    "print(\"Iris.target is of type\", type(iris.target))\n",
    "print(iris.target.shape)"
   ]
  },
  {
   "cell_type": "markdown",
   "metadata": {},
   "source": [
    "Iris.target should have a dimension of 1 because it is the label vector."
   ]
  },
  {
   "cell_type": "code",
   "execution_count": 280,
   "metadata": {},
   "outputs": [
    {
     "data": {
      "text/plain": [
       "<Figure size 432x288 with 0 Axes>"
      ]
     },
     "metadata": {},
     "output_type": "display_data"
    },
    {
     "data": {
      "image/png": "[encoded data removed]",
      "text/plain": [
       "<Figure size 432x216 with 1 Axes>"
      ]
     },
     "metadata": {
      "needs_background": "light"
     },
     "output_type": "display_data"
    }
   ],
   "source": [
    "k = 3   # how many nearest neighbors are consulted\n",
    "\n",
    "# get all the rows with the first 2 columns\n",
    "X = iris.data[:, [0,1]]  # we only take the first two features. We could\n",
    "\n",
    "# \n",
    "y = iris.target\n",
    "\n",
    "h = .02  # step size in the mesh\n",
    "\n",
    "# Create color maps\n",
    "cmap_light = ListedColormap(['#FFAAAA', '#AAFFAA', '#AAAAFF'])\n",
    "cmap_bold = ListedColormap(['#FF0000', '#00FF00', '#0000FF'])\n",
    "\n",
    "# we create an instance of Neighbours Classifier and fit the data.\n",
    "\n",
    "# This is the predictor = create(algorithm_type, D) step as mentioned\n",
    "# in the text above\n",
    "clf = neighbors.KNeighborsClassifier(k, weights='uniform')\n",
    "clf.fit(X, y)\n",
    "\n",
    "# Plot the decision boundary. For that, we will assign a color to each\n",
    "# point in the mesh [x_min, x_max]x[y_min, y_max].\n",
    "x_min, x_max = X[:, 0].min() - 1, X[:, 0].max() + 1\n",
    "y_min, y_max = X[:, 1].min() - 1, X[:, 1].max() + 1\n",
    "xx, yy = np.meshgrid(np.arange(x_min, x_max, h),\n",
    "                     np.arange(y_min, y_max, h))\n",
    "\n",
    "# This is the y_new = predictor(x_new) step as mentioned above in the text\n",
    "Z = clf.predict(np.c_[xx.ravel(), yy.ravel()])\n",
    "\n",
    "# Put the result into a color plot\n",
    "Z = Z.reshape(xx.shape)\n",
    "plt.figure()\n",
    "plt.figure(figsize=(6,3))   # this makes both axis equal \n",
    "plt.pcolormesh(xx, yy, Z, cmap=cmap_light)\n",
    "\n",
    "# Plot also the training points\n",
    "plt.scatter(X[:, 0], X[:, 1], c=y, cmap=cmap_bold)\n",
    "plt.xlim(xx.min(), xx.max())\n",
    "plt.ylim(yy.min(), yy.max())\n",
    "plt.title(\"3-Class classification (k = %i, weights = '%s')\" % (k, 'uniform'))\n",
    "plt.show()"
   ]
  },
  {
   "cell_type": "markdown",
   "metadata": {},
   "source": [
    "The resulting figure shows the predictions of kNN when $k=1$. If `x_new` is in the blue region, the prediction will be the blue class. From this picture, we can observe a small blue blobs inside the predominantly gray area. This is because the nearest neighbor in this area is the blue example. \n",
    "\n",
    "**Question 1**. Change value of k to 3 and observe if there is any difference. Discuss what you see and why.\n",
    "\n",
    "**Question 2**. Change k to an even higher value, let us say to 25. What do we see now? Discuss.\n",
    "\n",
    "**Queston 3**. In the line that creates `clf` change weights='uniform' to weights='distance'. Check the documentation or google to understand what it means. Explain. Run the code and discuss if you see any difference.\n"
   ]
  },
  {
   "cell_type": "markdown",
   "metadata": {},
   "source": [
    "**Answer 1:** After changing k to 3, I see that the green region is more flatten out. It takes up more space and it expands leftward to the red region and rightward to the blue region. Thus, the green region is covering more of the green points versus when k was set to 25. \n",
    "\n",
    "The boundaries are more refined to cover the points with the same color. \n",
    "\n",
    "I think we observed these differences is because of the fact that the number of neighbors is smaller so the algorithm only cares about the most nearest one. When we set k to 25, the algorithm might pick further neighbors with different properties and if those further neighbors dominate as a majority when it comes to predicting the label, this might have a more siginificance and therefore, the figure is not as refined. "
   ]
  },
  {
   "cell_type": "markdown",
   "metadata": {},
   "source": [
    "**Answer 2:** As k being set to a higher value, the figure is less refined. I observe that the green region is swallowing up more blue dots as well."
   ]
  },
  {
   "cell_type": "markdown",
   "metadata": {},
   "source": [
    "**Answer 3:** \n",
    "\n",
    "After consulting some online documentation, this means that the algorithm gives more weights to closer neighbors than farther neighbors when weights=distance. For weights=uniform, the algorithm gives the same weight to all k-closest neighbors regardless of its distance. \n",
    "\n",
    "By setting clf to distance, I observe that the figure is more refined. The blue dots that were covered by the green region are now being covered by the blue region. This might means that the algorithm's accuracy has gone up. "
   ]
  },
  {
   "cell_type": "markdown",
   "metadata": {},
   "source": [
    "### Training and testing\n",
    "  As mentioned above, the typical mechanism for testing accuracy of a `predictor` is to split the data randomly into training and testing, train `predictor` on training data and test its performance on test data. Let us see how it can be done."
   ]
  },
  {
   "cell_type": "code",
   "execution_count": 281,
   "metadata": {},
   "outputs": [],
   "source": [
    "from sklearn.model_selection import train_test_split\n",
    "\n",
    "# the test set will be 33% of the original dataset\n",
    "X_train, X_test, y_train, y_test = train_test_split(\n",
    "    X, y, test_size=0.33)"
   ]
  },
  {
   "cell_type": "markdown",
   "metadata": {},
   "source": [
    "**Question 4**. What is the size of the resulting objects?\n",
    "\n",
    "**Answer 4:** The test set should be 33% of the original iris dataset.\n",
    "\n",
    "Now that we created training and test sets, we can train a kNN classifier using the training data. Before moving forward, let us take a second and take a look at the documentation for kNN implementation in sklearn: http://scikit-learn.org/stable/modules/generated/sklearn.neighbors.KNeighborsClassifier.html.\n",
    "\n",
    "Let us train the kNN predictor:"
   ]
  },
  {
   "cell_type": "code",
   "execution_count": 282,
   "metadata": {},
   "outputs": [
    {
     "name": "stdout",
     "output_type": "stream",
     "text": [
      "KNeighborsClassifier(algorithm='auto', leaf_size=30, metric='minkowski',\n",
      "                     metric_params=None, n_jobs=None, n_neighbors=1, p=2,\n",
      "                     weights='uniform')\n"
     ]
    }
   ],
   "source": [
    "k = 1   # number of nearest neighbors\n",
    "predictor = neighbors.KNeighborsClassifier(n_neighbors = k)\n",
    "predictor.fit(X_train, y_train);\n",
    "print(predictor)"
   ]
  },
  {
   "cell_type": "markdown",
   "metadata": {},
   "source": [
    "Now that we trained `predictor` we can use it to provide predictions on any example `x`. "
   ]
  },
  {
   "cell_type": "code",
   "execution_count": 283,
   "metadata": {},
   "outputs": [
    {
     "name": "stdout",
     "output_type": "stream",
     "text": [
      "[[6.5 3.2]\n",
      " [6.3 3.3]\n",
      " [6.9 3.1]\n",
      " [4.4 3.2]]\n",
      "[(1, 2), (1, 2), (1, 2), (0, 0)]\n"
     ]
    }
   ],
   "source": [
    "# select the first 4 test examples\n",
    "i = [0,1,2,3]\n",
    "x = X_test[i,:]\n",
    "print(x)\n",
    "# predict its label\n",
    "yhat = predictor.predict(x)\n",
    "\n",
    "# compare predicted and true labels\n",
    "\n",
    "# zip matches an item from one list with another.\n",
    "# both item must have the same index\n",
    "print(list(zip(yhat,y_test[i])))"
   ]
  },
  {
   "cell_type": "markdown",
   "metadata": {},
   "source": [
    "**Question 5**. Did your kNN predictor do a good job in predicting labels of the first 4 test examples? \n",
    "\n",
    "**Answer 5:** The kNN achieves a 100% accuracy when predicting the labels of the first 4 test examples.\n",
    "\n",
    "**Question 6**. Write a piece of code that calculates the accuracy on those 4 test examples (number of correct guesses divided by the total number of guesses\n",
    "\n",
    "**Question 7**. Find the predictions on all test examples in `X_test` and calculate the accuracy using your code from *Question 6*.\n",
    "\n",
    "Pay attention that methods in sklearn.neighbors.KNeighborsClassifier allow you to test the accuracy in a faster way (you should not use it to answer Questions 6 and 7):"
   ]
  },
  {
   "cell_type": "code",
   "execution_count": 284,
   "metadata": {},
   "outputs": [
    {
     "name": "stdout",
     "output_type": "stream",
     "text": [
      "66.0\n"
     ]
    }
   ],
   "source": [
    "# Answer 6\n",
    "# predictions and true_labels must be arrays\n",
    "# they can either be NP arrays or of list type\n",
    "def accuracy_rate(predictions, true_labels):\n",
    "    right_count = 0\n",
    "    for i in range(len(predictions)):\n",
    "        predict_label = predictions[i]\n",
    "        true_label = true_labels[i]\n",
    "        \n",
    "        if predict_label == true_label:\n",
    "            right_count += 1\n",
    "    score = (right_count / len(predictions)) * 100.00\n",
    "    return score\n",
    "\n",
    "# Answer 7\n",
    "\n",
    "# run predictor on all test examples\n",
    "yhat = predictor.predict(X_test)\n",
    "\n",
    "# find accuracy after running the predictor on all test examples\n",
    "print(accuracy_rate(yhat,y_test))"
   ]
  },
  {
   "cell_type": "code",
   "execution_count": 285,
   "metadata": {},
   "outputs": [
    {
     "name": "stdout",
     "output_type": "stream",
     "text": [
      "0.66\n"
     ]
    }
   ],
   "source": [
    "accuracy = predictor.score(X_test,y_test)\n",
    "print(accuracy)"
   ]
  },
  {
   "cell_type": "markdown",
   "metadata": {},
   "source": [
    "**Question 8**. Train `predictor` using different choices of k. Try $k = 1, 3, 5, 15, 25, 50$. Report the accuracies on the test data (you can use the score method). Which choice of $k$ resulted in the highest accuracy? Comment briefly if the results make sense to you.\n",
    "\n",
    "**Question 9**. Other than choice of $k$, `KNeighborsClassifier` allows you to make some other choices. For example, in *Question 3* you saw that you can use a weighted prediction. There are few other options. Study the documentation and summarize in few sentences what other options you have when training the kNN classifier."
   ]
  },
  {
   "cell_type": "code",
   "execution_count": 286,
   "metadata": {},
   "outputs": [
    {
     "name": "stdout",
     "output_type": "stream",
     "text": [
      "With k as: 1 we achieve accuracy rate of: 0.66\n",
      "With k as: 3 we achieve accuracy rate of: 0.72\n",
      "With k as: 5 we achieve accuracy rate of: 0.76\n",
      "With k as: 5 we achieve accuracy rate of: 0.76\n",
      "With k as: 15 we achieve accuracy rate of: 0.74\n",
      "With k as: 25 we achieve accuracy rate of: 0.66\n",
      "With k as: 50 we achieve accuracy rate of: 0.66\n"
     ]
    }
   ],
   "source": [
    "# Answer 8\n",
    "k_choices = [1,3,5,5,15,25,50]\n",
    "\n",
    "for k in k_choices:\n",
    "    predictor = neighbors.KNeighborsClassifier(n_neighbors = k)\n",
    "    predictor.fit(X_train, y_train);\n",
    "    accuracy = predictor.score(X_test,y_test)\n",
    "    print(\"With k as: \" + str(k) + \" we achieve accuracy rate of: \" + str(accuracy))"
   ]
  },
  {
   "cell_type": "markdown",
   "metadata": {},
   "source": [
    "**Answer 8 (continued):**\n",
    "The choice of 5 for k resulted in the highest accuracy, which is 76%. \n",
    "\n",
    "In kNN algorithm, for k = 25 examples and the size of the training set is 66 examples, I think there is a possibility of overfitting here. Despite having the highest accuracy score on the testing set, the model was built on a relatively small dataset with somewhat a high choice for k.\n",
    "\n",
    "It is not surprising that if we set k too low or too high, the accuracy rates are low. If k is too low, then the model might not be able to observe some more farther neighbor datapoints that might have similar properties that might help to predict an example better.\n",
    "\n",
    "If k is too high, then the model might takes into consideration of even farther datapoints that have different properties that can skew the predictive label away from the true label. "
   ]
  },
  {
   "cell_type": "markdown",
   "metadata": {},
   "source": [
    "**Answer 9:**\n",
    "The 3 options that I saw from the documentation are uniform, distance and [callable].\n",
    "\n",
    "For the uniform option, all of the examples are weighted the same.\n",
    "\n",
    "For the distance option, the closer neighbors are given greater weights than the further ones. \n",
    "\n",
    "For the [callable] option, the user can write a function that takes in an array of distances and return an array of the same shape that defines the weights."
   ]
  },
  {
   "cell_type": "code",
   "execution_count": 287,
   "metadata": {},
   "outputs": [
    {
     "name": "stdout",
     "output_type": "stream",
     "text": [
      "0.66\n",
      "0.66\n"
     ]
    }
   ],
   "source": [
    "# this customized function gives uniform weights to\n",
    "# all the examples\n",
    "def customized_weights(weights):\n",
    "    weight_new = []\n",
    "    for i in range(len(weights)):\n",
    "        weight_new.append(1)\n",
    "    return weight_new\n",
    "\n",
    "# using customized_ weights function \n",
    "predictor = neighbors.KNeighborsClassifier(n_neighbors = k, weights=customized_weights)\n",
    "predictor.fit(X_train, y_train);\n",
    "print(predictor.score(X_test, y_test))\n",
    "\n",
    "predictor = neighbors.KNeighborsClassifier(n_neighbors = k, weights='uniform')\n",
    "predictor.fit(X_train, y_train);\n",
    "print(predictor.score(X_test, y_test))"
   ]
  },
  {
   "cell_type": "markdown",
   "metadata": {},
   "source": [
    "## Lab 5.B Training kNN classifier on Iris and Wine Quality data (70% of grade)\n",
    "In this part of the lab you will use your knowledge to train and test accuracy of kNN classifiers on Iris and Newsgroups data.\n",
    "\n",
    "#### Iris Questions\n",
    "In Lab 7.A you used only the first two attributes of Iris for prediction. You have 2 questions:\n",
    "\n",
    "**Question Iris 1**. Train kNN classifier on other pair of attributes. Use $k$ of your choice and feel free to keep other choices at their default values. Which pair of attributes results in the highest accuracy?\n",
    "\n",
    "**Question Iris 2**. Train kNN classifier using all 4 attributes. Report the accuracy on test data set. Play with parameters of kNN to try to find a combination that results in the highest accuracy. Can you find something that works better than $k=3$ and default choices?\n",
    "\n",
    "#### Wine Quality Questions\n",
    "Wine Quality data set can be accessed from the UCI Machine Learning Repository website at https://archive.ics.uci.edu/ml/datasets/Wine+Quality. In this lab you will be working with the white wine data set https://archive.ics.uci.edu/ml/machine-learning-databases/wine-quality/winequality-white.csv\n",
    "\n",
    "**Question Wine 1** Perform EDA on the data set to get an insight into the data. Prepare 1 page pdf document summarizing the interesting aspects of the data. Upload the pdf file named WineEDA.pdf to Canvas.\n",
    "\n",
    "**Question Wine 2**. Since kNN is a relatively slow algorithms, create your data set by picking 2,000 examples randomly. Pay attention that the 12th column in the data set (quality) should be your label (call it y) and the first 11 columns should be your attribues (call it X). Because y are numbers from 0-10, let us create a binary label by converting ratings 7 and below to 0 and ratings above 7 as 1. Split your data into 66% training and 33% test data sets. Train a kNN classifier ($k=3$ and defaults) on the training data and test its accuracy on test data. Record the computational time needed to run this. Report the accuracy.\n",
    "\n",
    "**Question Wine 3**. Train a kNN classifier using different values of $k$ and any other different choice of hyperparameters, hoping to improve accuracy. Report the results.\n",
    "\n",
    "**Question Wine 4** Pay attention that range of vallues for different attributes is quite different. *Question*: what is the impact of attributes with different ranges to kNN algorithm? In order to give each attribute equal change, scale each attribute to the same range to make sure the minimum is 0 and maximum is 1. *Question*: What is the formula to achieve this? Implement this formula and create a scaled data set (remember, any scaling you apply on the training data should also be used on the test data). Apply kNN and measure the accuracy. Did your accuracy improve?\n",
    "\n",
    "**Question Wine 5** Instead of treating the last column (quality) as a class label, we can treat is as numeric output. In the original format, the numbers range from 0 to 10. If we want to predict that number, the problem becomes regression. As we covered in class, kNN can also be used for regression. It is also implemented by sklearn. Use sklearn to test the accuracy of knn regression. Remember that the formula for regression accuracy is average squared error, also called the Mean Squared Error (MSE). \n",
    "\n",
    "**Deliverables** Submit the 1-page pdf file for EDA. Also, submit this notebook (enhanced with needed code) with all answers (added as tect comments) and all executed code for all the questions."
   ]
  },
  {
   "cell_type": "markdown",
   "metadata": {},
   "source": [
    "**Answer Iris 1:**"
   ]
  },
  {
   "cell_type": "code",
   "execution_count": 288,
   "metadata": {},
   "outputs": [
    {
     "name": "stdout",
     "output_type": "stream",
     "text": [
      "0.96\n"
     ]
    }
   ],
   "source": [
    "# training the model on the other pair of attributes\n",
    "X = iris.data[:, [2,3]] \n",
    "X_train, X_test, y_train, y_test = train_test_split(\n",
    "    X, y, test_size=0.33)\n",
    "predictor = neighbors.KNeighborsClassifier(n_neighbors = 3)\n",
    "predictor.fit(X_train, y_train);\n",
    "accuracy = predictor.score(X_test,y_test)\n",
    "print(accuracy)"
   ]
  },
  {
   "cell_type": "markdown",
   "metadata": {},
   "source": [
    "From our observation, with k = 3 and 3rd with 4th attributes for training, I can see that the accuracy rate increased drastically. \n",
    "\n",
    "The pair of attributes that consist of 3rd and 4th attributes result in the highest accuracy rate. "
   ]
  },
  {
   "cell_type": "markdown",
   "metadata": {},
   "source": [
    "**Answer Iris 2:**"
   ]
  },
  {
   "cell_type": "code",
   "execution_count": 289,
   "metadata": {},
   "outputs": [
    {
     "name": "stdout",
     "output_type": "stream",
     "text": [
      "0.98\n"
     ]
    }
   ],
   "source": [
    "# training the model on all 4 of the attributes\n",
    "X = iris.data \n",
    "X_train, X_test, y_train, y_test = train_test_split(\n",
    "    X, y, test_size=0.33)\n",
    "predictor = neighbors.KNeighborsClassifier(n_neighbors = 3)\n",
    "predictor.fit(X_train, y_train);\n",
    "accuracy = predictor.score(X_test,y_test)\n",
    "print(accuracy)"
   ]
  },
  {
   "cell_type": "code",
   "execution_count": 290,
   "metadata": {},
   "outputs": [
    {
     "name": "stdout",
     "output_type": "stream",
     "text": [
      "1 uniform euclidean 0.96\n",
      "1 uniform manhattan 0.96\n",
      "1 uniform chebyshev 1.0\n",
      "1 uniform minkowski 0.96\n",
      "1 distance euclidean 0.96\n",
      "1 distance manhattan 0.96\n",
      "1 distance chebyshev 1.0\n",
      "1 distance minkowski 0.96\n",
      "3 uniform euclidean 0.98\n",
      "3 uniform manhattan 0.98\n",
      "3 uniform chebyshev 0.98\n",
      "3 uniform minkowski 0.98\n",
      "3 distance euclidean 0.98\n",
      "3 distance manhattan 0.98\n",
      "3 distance chebyshev 0.98\n",
      "3 distance minkowski 0.98\n",
      "5 uniform euclidean 1.0\n",
      "5 uniform manhattan 0.98\n",
      "5 uniform chebyshev 1.0\n",
      "5 uniform minkowski 1.0\n",
      "5 distance euclidean 1.0\n",
      "5 distance manhattan 0.98\n",
      "5 distance chebyshev 1.0\n",
      "5 distance minkowski 1.0\n",
      "5 uniform euclidean 1.0\n",
      "5 uniform manhattan 0.98\n",
      "5 uniform chebyshev 1.0\n",
      "5 uniform minkowski 1.0\n",
      "5 distance euclidean 1.0\n",
      "5 distance manhattan 0.98\n",
      "5 distance chebyshev 1.0\n",
      "5 distance minkowski 1.0\n",
      "15 uniform euclidean 0.98\n",
      "15 uniform manhattan 0.98\n",
      "15 uniform chebyshev 0.94\n",
      "15 uniform minkowski 0.98\n",
      "15 distance euclidean 0.98\n",
      "15 distance manhattan 0.98\n",
      "15 distance chebyshev 0.96\n",
      "15 distance minkowski 0.98\n",
      "25 uniform euclidean 0.96\n",
      "25 uniform manhattan 0.94\n",
      "25 uniform chebyshev 0.94\n",
      "25 uniform minkowski 0.96\n",
      "25 distance euclidean 0.96\n",
      "25 distance manhattan 0.94\n",
      "25 distance chebyshev 0.96\n",
      "25 distance minkowski 0.96\n",
      "50 uniform euclidean 0.86\n",
      "50 uniform manhattan 0.92\n",
      "50 uniform chebyshev 0.86\n",
      "50 uniform minkowski 0.86\n",
      "50 distance euclidean 0.96\n",
      "50 distance manhattan 0.96\n",
      "50 distance chebyshev 0.98\n",
      "50 distance minkowski 0.96\n"
     ]
    }
   ],
   "source": [
    "# testing the different combinations of \n",
    "# k, weights and metrics\n",
    "k_choices = [1,3,5,5,15,25,50]\n",
    "weights = ['uniform', 'distance']\n",
    "metric_choices = ['euclidean', 'manhattan', 'chebyshev', 'minkowski']\n",
    "dict_kNN = {}\n",
    "\n",
    "for k in k_choices:\n",
    "    for w in weights:\n",
    "        for m in metric_choices:\n",
    "            predictor = neighbors.KNeighborsClassifier(n_neighbors = k, metric=m, weights=w, p=2)\n",
    "            predictor.fit(X_train, y_train);\n",
    "            accuracy = predictor.score(X_test,y_test)\n",
    "            dict_kNN[(k, w, m)] = accuracy\n",
    "            print(k, w, m, accuracy)"
   ]
  },
  {
   "cell_type": "code",
   "execution_count": 291,
   "metadata": {},
   "outputs": [
    {
     "name": "stdout",
     "output_type": "stream",
     "text": [
      "[(1, 'uniform', 'chebyshev'), (1, 'distance', 'chebyshev'), (5, 'uniform', 'euclidean'), (5, 'uniform', 'chebyshev'), (5, 'uniform', 'minkowski'), (5, 'distance', 'euclidean'), (5, 'distance', 'chebyshev'), (5, 'distance', 'minkowski'), (3, 'uniform', 'euclidean'), (3, 'uniform', 'manhattan')]\n"
     ]
    }
   ],
   "source": [
    "# sorting the keys in dictionary to see which choices\n",
    "# for kNN params result in the highest accuracy rate\n",
    "\n",
    "# sorting the dictionary by values in descending order\n",
    "sorted_dict = [k for k, v in sorted(dict_kNN.items(), key=lambda item: item[1], reverse=True)]\n",
    "\n",
    "# print out the paramaters lists that gave the top 10 accuracy rate\n",
    "print(sorted_dict[:10])"
   ]
  },
  {
   "cell_type": "markdown",
   "metadata": {},
   "source": [
    "As observed above, with k = 1, the model resulted in very high accuracy rate. For parameters that result in top 10 accuracy rate, 7 out of 10 parameter list contains k = 1. In regards to the parameters of weights and distance, there seems to be no best choice. "
   ]
  },
  {
   "cell_type": "markdown",
   "metadata": {},
   "source": [
    "**Answer Wine 1:**"
   ]
  },
  {
   "cell_type": "code",
   "execution_count": 292,
   "metadata": {},
   "outputs": [],
   "source": [
    "import pandas as pd\n",
    "wine = pd.read_csv('https://archive.ics.uci.edu/ml/machine-learning-databases/wine-quality/winequality-white.csv', sep=\";\")"
   ]
  },
  {
   "cell_type": "code",
   "execution_count": 293,
   "metadata": {},
   "outputs": [
    {
     "data": {
      "text/html": [
       "<div>\n",
       "<style scoped>\n",
       "    .dataframe tbody tr th:only-of-type {\n",
       "        vertical-align: middle;\n",
       "    }\n",
       "\n",
       "    .dataframe tbody tr th {\n",
       "        vertical-align: top;\n",
       "    }\n",
       "\n",
       "    .dataframe thead th {\n",
       "        text-align: right;\n",
       "    }\n",
       "</style>\n",
       "<table border=\"1\" class=\"dataframe\">\n",
       "  <thead>\n",
       "    <tr style=\"text-align: right;\">\n",
       "      <th></th>\n",
       "      <th>fixed acidity</th>\n",
       "      <th>volatile acidity</th>\n",
       "      <th>citric acid</th>\n",
       "      <th>residual sugar</th>\n",
       "      <th>chlorides</th>\n",
       "      <th>free sulfur dioxide</th>\n",
       "      <th>total sulfur dioxide</th>\n",
       "      <th>density</th>\n",
       "      <th>pH</th>\n",
       "      <th>sulphates</th>\n",
       "      <th>alcohol</th>\n",
       "      <th>quality</th>\n",
       "    </tr>\n",
       "  </thead>\n",
       "  <tbody>\n",
       "    <tr>\n",
       "      <td>0</td>\n",
       "      <td>7.0</td>\n",
       "      <td>0.27</td>\n",
       "      <td>0.36</td>\n",
       "      <td>20.7</td>\n",
       "      <td>0.045</td>\n",
       "      <td>45.0</td>\n",
       "      <td>170.0</td>\n",
       "      <td>1.0010</td>\n",
       "      <td>3.00</td>\n",
       "      <td>0.45</td>\n",
       "      <td>8.8</td>\n",
       "      <td>6</td>\n",
       "    </tr>\n",
       "    <tr>\n",
       "      <td>1</td>\n",
       "      <td>6.3</td>\n",
       "      <td>0.30</td>\n",
       "      <td>0.34</td>\n",
       "      <td>1.6</td>\n",
       "      <td>0.049</td>\n",
       "      <td>14.0</td>\n",
       "      <td>132.0</td>\n",
       "      <td>0.9940</td>\n",
       "      <td>3.30</td>\n",
       "      <td>0.49</td>\n",
       "      <td>9.5</td>\n",
       "      <td>6</td>\n",
       "    </tr>\n",
       "    <tr>\n",
       "      <td>2</td>\n",
       "      <td>8.1</td>\n",
       "      <td>0.28</td>\n",
       "      <td>0.40</td>\n",
       "      <td>6.9</td>\n",
       "      <td>0.050</td>\n",
       "      <td>30.0</td>\n",
       "      <td>97.0</td>\n",
       "      <td>0.9951</td>\n",
       "      <td>3.26</td>\n",
       "      <td>0.44</td>\n",
       "      <td>10.1</td>\n",
       "      <td>6</td>\n",
       "    </tr>\n",
       "    <tr>\n",
       "      <td>3</td>\n",
       "      <td>7.2</td>\n",
       "      <td>0.23</td>\n",
       "      <td>0.32</td>\n",
       "      <td>8.5</td>\n",
       "      <td>0.058</td>\n",
       "      <td>47.0</td>\n",
       "      <td>186.0</td>\n",
       "      <td>0.9956</td>\n",
       "      <td>3.19</td>\n",
       "      <td>0.40</td>\n",
       "      <td>9.9</td>\n",
       "      <td>6</td>\n",
       "    </tr>\n",
       "    <tr>\n",
       "      <td>4</td>\n",
       "      <td>7.2</td>\n",
       "      <td>0.23</td>\n",
       "      <td>0.32</td>\n",
       "      <td>8.5</td>\n",
       "      <td>0.058</td>\n",
       "      <td>47.0</td>\n",
       "      <td>186.0</td>\n",
       "      <td>0.9956</td>\n",
       "      <td>3.19</td>\n",
       "      <td>0.40</td>\n",
       "      <td>9.9</td>\n",
       "      <td>6</td>\n",
       "    </tr>\n",
       "  </tbody>\n",
       "</table>\n",
       "</div>"
      ],
      "text/plain": [
       "   fixed acidity  volatile acidity  citric acid  residual sugar  chlorides  \\\n",
       "0            7.0              0.27         0.36            20.7      0.045   \n",
       "1            6.3              0.30         0.34             1.6      0.049   \n",
       "2            8.1              0.28         0.40             6.9      0.050   \n",
       "3            7.2              0.23         0.32             8.5      0.058   \n",
       "4            7.2              0.23         0.32             8.5      0.058   \n",
       "\n",
       "   free sulfur dioxide  total sulfur dioxide  density    pH  sulphates  \\\n",
       "0                 45.0                 170.0   1.0010  3.00       0.45   \n",
       "1                 14.0                 132.0   0.9940  3.30       0.49   \n",
       "2                 30.0                  97.0   0.9951  3.26       0.44   \n",
       "3                 47.0                 186.0   0.9956  3.19       0.40   \n",
       "4                 47.0                 186.0   0.9956  3.19       0.40   \n",
       "\n",
       "   alcohol  quality  \n",
       "0      8.8        6  \n",
       "1      9.5        6  \n",
       "2     10.1        6  \n",
       "3      9.9        6  \n",
       "4      9.9        6  "
      ]
     },
     "execution_count": 293,
     "metadata": {},
     "output_type": "execute_result"
    }
   ],
   "source": [
    "wine.head()"
   ]
  },
  {
   "cell_type": "code",
   "execution_count": 294,
   "metadata": {},
   "outputs": [
    {
     "data": {
      "text/plain": [
       "fixed acidity           float64\n",
       "volatile acidity        float64\n",
       "citric acid             float64\n",
       "residual sugar          float64\n",
       "chlorides               float64\n",
       "free sulfur dioxide     float64\n",
       "total sulfur dioxide    float64\n",
       "density                 float64\n",
       "pH                      float64\n",
       "sulphates               float64\n",
       "alcohol                 float64\n",
       "quality                   int64\n",
       "dtype: object"
      ]
     },
     "execution_count": 294,
     "metadata": {},
     "output_type": "execute_result"
    }
   ],
   "source": [
    "wine.dtypes"
   ]
  },
  {
   "cell_type": "code",
   "execution_count": 295,
   "metadata": {},
   "outputs": [
    {
     "data": {
      "text/html": [
       "<div>\n",
       "<style scoped>\n",
       "    .dataframe tbody tr th:only-of-type {\n",
       "        vertical-align: middle;\n",
       "    }\n",
       "\n",
       "    .dataframe tbody tr th {\n",
       "        vertical-align: top;\n",
       "    }\n",
       "\n",
       "    .dataframe thead th {\n",
       "        text-align: right;\n",
       "    }\n",
       "</style>\n",
       "<table border=\"1\" class=\"dataframe\">\n",
       "  <thead>\n",
       "    <tr style=\"text-align: right;\">\n",
       "      <th></th>\n",
       "      <th>fixed acidity</th>\n",
       "      <th>volatile acidity</th>\n",
       "      <th>citric acid</th>\n",
       "      <th>residual sugar</th>\n",
       "      <th>chlorides</th>\n",
       "      <th>free sulfur dioxide</th>\n",
       "      <th>total sulfur dioxide</th>\n",
       "      <th>density</th>\n",
       "      <th>pH</th>\n",
       "      <th>sulphates</th>\n",
       "      <th>alcohol</th>\n",
       "      <th>quality</th>\n",
       "    </tr>\n",
       "  </thead>\n",
       "  <tbody>\n",
       "    <tr>\n",
       "      <td>count</td>\n",
       "      <td>4898.000000</td>\n",
       "      <td>4898.000000</td>\n",
       "      <td>4898.000000</td>\n",
       "      <td>4898.000000</td>\n",
       "      <td>4898.000000</td>\n",
       "      <td>4898.000000</td>\n",
       "      <td>4898.000000</td>\n",
       "      <td>4898.000000</td>\n",
       "      <td>4898.000000</td>\n",
       "      <td>4898.000000</td>\n",
       "      <td>4898.000000</td>\n",
       "      <td>4898.000000</td>\n",
       "    </tr>\n",
       "    <tr>\n",
       "      <td>mean</td>\n",
       "      <td>6.854788</td>\n",
       "      <td>0.278241</td>\n",
       "      <td>0.334192</td>\n",
       "      <td>6.391415</td>\n",
       "      <td>0.045772</td>\n",
       "      <td>35.308085</td>\n",
       "      <td>138.360657</td>\n",
       "      <td>0.994027</td>\n",
       "      <td>3.188267</td>\n",
       "      <td>0.489847</td>\n",
       "      <td>10.514267</td>\n",
       "      <td>5.877909</td>\n",
       "    </tr>\n",
       "    <tr>\n",
       "      <td>std</td>\n",
       "      <td>0.843868</td>\n",
       "      <td>0.100795</td>\n",
       "      <td>0.121020</td>\n",
       "      <td>5.072058</td>\n",
       "      <td>0.021848</td>\n",
       "      <td>17.007137</td>\n",
       "      <td>42.498065</td>\n",
       "      <td>0.002991</td>\n",
       "      <td>0.151001</td>\n",
       "      <td>0.114126</td>\n",
       "      <td>1.230621</td>\n",
       "      <td>0.885639</td>\n",
       "    </tr>\n",
       "    <tr>\n",
       "      <td>min</td>\n",
       "      <td>3.800000</td>\n",
       "      <td>0.080000</td>\n",
       "      <td>0.000000</td>\n",
       "      <td>0.600000</td>\n",
       "      <td>0.009000</td>\n",
       "      <td>2.000000</td>\n",
       "      <td>9.000000</td>\n",
       "      <td>0.987110</td>\n",
       "      <td>2.720000</td>\n",
       "      <td>0.220000</td>\n",
       "      <td>8.000000</td>\n",
       "      <td>3.000000</td>\n",
       "    </tr>\n",
       "    <tr>\n",
       "      <td>25%</td>\n",
       "      <td>6.300000</td>\n",
       "      <td>0.210000</td>\n",
       "      <td>0.270000</td>\n",
       "      <td>1.700000</td>\n",
       "      <td>0.036000</td>\n",
       "      <td>23.000000</td>\n",
       "      <td>108.000000</td>\n",
       "      <td>0.991723</td>\n",
       "      <td>3.090000</td>\n",
       "      <td>0.410000</td>\n",
       "      <td>9.500000</td>\n",
       "      <td>5.000000</td>\n",
       "    </tr>\n",
       "    <tr>\n",
       "      <td>50%</td>\n",
       "      <td>6.800000</td>\n",
       "      <td>0.260000</td>\n",
       "      <td>0.320000</td>\n",
       "      <td>5.200000</td>\n",
       "      <td>0.043000</td>\n",
       "      <td>34.000000</td>\n",
       "      <td>134.000000</td>\n",
       "      <td>0.993740</td>\n",
       "      <td>3.180000</td>\n",
       "      <td>0.470000</td>\n",
       "      <td>10.400000</td>\n",
       "      <td>6.000000</td>\n",
       "    </tr>\n",
       "    <tr>\n",
       "      <td>75%</td>\n",
       "      <td>7.300000</td>\n",
       "      <td>0.320000</td>\n",
       "      <td>0.390000</td>\n",
       "      <td>9.900000</td>\n",
       "      <td>0.050000</td>\n",
       "      <td>46.000000</td>\n",
       "      <td>167.000000</td>\n",
       "      <td>0.996100</td>\n",
       "      <td>3.280000</td>\n",
       "      <td>0.550000</td>\n",
       "      <td>11.400000</td>\n",
       "      <td>6.000000</td>\n",
       "    </tr>\n",
       "    <tr>\n",
       "      <td>max</td>\n",
       "      <td>14.200000</td>\n",
       "      <td>1.100000</td>\n",
       "      <td>1.660000</td>\n",
       "      <td>65.800000</td>\n",
       "      <td>0.346000</td>\n",
       "      <td>289.000000</td>\n",
       "      <td>440.000000</td>\n",
       "      <td>1.038980</td>\n",
       "      <td>3.820000</td>\n",
       "      <td>1.080000</td>\n",
       "      <td>14.200000</td>\n",
       "      <td>9.000000</td>\n",
       "    </tr>\n",
       "  </tbody>\n",
       "</table>\n",
       "</div>"
      ],
      "text/plain": [
       "       fixed acidity  volatile acidity  citric acid  residual sugar  \\\n",
       "count    4898.000000       4898.000000  4898.000000     4898.000000   \n",
       "mean        6.854788          0.278241     0.334192        6.391415   \n",
       "std         0.843868          0.100795     0.121020        5.072058   \n",
       "min         3.800000          0.080000     0.000000        0.600000   \n",
       "25%         6.300000          0.210000     0.270000        1.700000   \n",
       "50%         6.800000          0.260000     0.320000        5.200000   \n",
       "75%         7.300000          0.320000     0.390000        9.900000   \n",
       "max        14.200000          1.100000     1.660000       65.800000   \n",
       "\n",
       "         chlorides  free sulfur dioxide  total sulfur dioxide      density  \\\n",
       "count  4898.000000          4898.000000           4898.000000  4898.000000   \n",
       "mean      0.045772            35.308085            138.360657     0.994027   \n",
       "std       0.021848            17.007137             42.498065     0.002991   \n",
       "min       0.009000             2.000000              9.000000     0.987110   \n",
       "25%       0.036000            23.000000            108.000000     0.991723   \n",
       "50%       0.043000            34.000000            134.000000     0.993740   \n",
       "75%       0.050000            46.000000            167.000000     0.996100   \n",
       "max       0.346000           289.000000            440.000000     1.038980   \n",
       "\n",
       "                pH    sulphates      alcohol      quality  \n",
       "count  4898.000000  4898.000000  4898.000000  4898.000000  \n",
       "mean      3.188267     0.489847    10.514267     5.877909  \n",
       "std       0.151001     0.114126     1.230621     0.885639  \n",
       "min       2.720000     0.220000     8.000000     3.000000  \n",
       "25%       3.090000     0.410000     9.500000     5.000000  \n",
       "50%       3.180000     0.470000    10.400000     6.000000  \n",
       "75%       3.280000     0.550000    11.400000     6.000000  \n",
       "max       3.820000     1.080000    14.200000     9.000000  "
      ]
     },
     "execution_count": 295,
     "metadata": {},
     "output_type": "execute_result"
    }
   ],
   "source": [
    "wine.describe()"
   ]
  },
  {
   "cell_type": "code",
   "execution_count": 296,
   "metadata": {},
   "outputs": [
    {
     "name": "stdout",
     "output_type": "stream",
     "text": [
      "The average fixed acidity\n",
      "\n",
      "quality\n",
      "3    7.600000\n",
      "4    7.129448\n",
      "5    6.933974\n",
      "6    6.837671\n",
      "7    6.734716\n",
      "8    6.657143\n",
      "9    7.420000\n",
      "Name: fixed acidity, dtype: float64\n",
      "The average volatile acidity\n",
      "\n",
      "quality\n",
      "3    0.333250\n",
      "4    0.381227\n",
      "5    0.302011\n",
      "6    0.260564\n",
      "7    0.262767\n",
      "8    0.277400\n",
      "9    0.298000\n",
      "Name: volatile acidity, dtype: float64\n",
      "The average citric acid\n",
      "\n",
      "quality\n",
      "3    0.336000\n",
      "4    0.304233\n",
      "5    0.337653\n",
      "6    0.338025\n",
      "7    0.325625\n",
      "8    0.326514\n",
      "9    0.386000\n",
      "Name: citric acid, dtype: float64\n",
      "The average residual sugar\n",
      "\n",
      "quality\n",
      "3    6.392500\n",
      "4    4.628221\n",
      "5    7.334969\n",
      "6    6.441606\n",
      "7    5.186477\n",
      "8    5.671429\n",
      "9    4.120000\n",
      "Name: residual sugar, dtype: float64\n",
      "The average chlorides\n",
      "\n",
      "quality\n",
      "3    0.054300\n",
      "4    0.050098\n",
      "5    0.051546\n",
      "6    0.045217\n",
      "7    0.038191\n",
      "8    0.038314\n",
      "9    0.027400\n",
      "Name: chlorides, dtype: float64\n",
      "The average free sulfur dioxide\n",
      "\n",
      "quality\n",
      "3    53.325000\n",
      "4    23.358896\n",
      "5    36.432052\n",
      "6    35.650591\n",
      "7    34.125568\n",
      "8    36.720000\n",
      "9    33.400000\n",
      "Name: free sulfur dioxide, dtype: float64\n",
      "The average total sulfur dioxide\n",
      "\n",
      "quality\n",
      "3    170.600000\n",
      "4    125.279141\n",
      "5    150.904598\n",
      "6    137.047316\n",
      "7    125.114773\n",
      "8    126.165714\n",
      "9    116.000000\n",
      "Name: total sulfur dioxide, dtype: float64\n",
      "The average density\n",
      "\n",
      "quality\n",
      "3    0.994884\n",
      "4    0.994277\n",
      "5    0.995263\n",
      "6    0.993961\n",
      "7    0.992452\n",
      "8    0.992236\n",
      "9    0.991460\n",
      "Name: density, dtype: float64\n",
      "The average pH\n",
      "\n",
      "quality\n",
      "3    3.187500\n",
      "4    3.182883\n",
      "5    3.168833\n",
      "6    3.188599\n",
      "7    3.213898\n",
      "8    3.218686\n",
      "9    3.308000\n",
      "Name: pH, dtype: float64\n",
      "The average sulphates\n",
      "\n",
      "quality\n",
      "3    0.474500\n",
      "4    0.476135\n",
      "5    0.482203\n",
      "6    0.491106\n",
      "7    0.503102\n",
      "8    0.486229\n",
      "9    0.466000\n",
      "Name: sulphates, dtype: float64\n",
      "The average alcohol\n",
      "\n",
      "quality\n",
      "3    10.345000\n",
      "4    10.152454\n",
      "5     9.808840\n",
      "6    10.575372\n",
      "7    11.367936\n",
      "8    11.636000\n",
      "9    12.180000\n",
      "Name: alcohol, dtype: float64\n",
      "The average quality\n",
      "\n",
      "quality\n",
      "3    3\n",
      "4    4\n",
      "5    5\n",
      "6    6\n",
      "7    7\n",
      "8    8\n",
      "9    9\n",
      "Name: quality, dtype: int64\n"
     ]
    }
   ],
   "source": [
    "# split the data by quality\n",
    "# and perform aggregation analysis\n",
    "grouped_quality = wine.groupby('quality')\n",
    "\n",
    "for attribute in wine.columns:\n",
    "    avg = grouped_quality[attribute].agg('mean')\n",
    "    print(\"The average \" + attribute + \"\\n\")\n",
    "    print(str(avg))"
   ]
  },
  {
   "cell_type": "code",
   "execution_count": 297,
   "metadata": {},
   "outputs": [
    {
     "data": {
      "text/plain": [
       "fixed acidity          -0.113663\n",
       "volatile acidity       -0.194723\n",
       "citric acid            -0.009209\n",
       "residual sugar         -0.097577\n",
       "chlorides              -0.209934\n",
       "free sulfur dioxide     0.008158\n",
       "total sulfur dioxide   -0.174737\n",
       "density                -0.307123\n",
       "pH                      0.099427\n",
       "sulphates               0.053678\n",
       "alcohol                 0.435575\n",
       "quality                 1.000000\n",
       "Name: quality, dtype: float64"
      ]
     },
     "execution_count": 297,
     "metadata": {},
     "output_type": "execute_result"
    }
   ],
   "source": [
    "# find the correlation coefficient between each attribute\n",
    "# and the quality of the wine\n",
    "wine.corr()['quality']"
   ]
  },
  {
   "cell_type": "code",
   "execution_count": 298,
   "metadata": {},
   "outputs": [
    {
     "data": {
      "text/plain": [
       "<matplotlib.axes._subplots.AxesSubplot at 0x1a1c75ce50>"
      ]
     },
     "execution_count": 298,
     "metadata": {},
     "output_type": "execute_result"
    },
    {
     "data": {
      "image/png": "[encoded data removed]",
      "text/plain": [
       "<Figure size 432x288 with 2 Axes>"
      ]
     },
     "metadata": {
      "needs_background": "light"
     },
     "output_type": "display_data"
    }
   ],
   "source": [
    "import seaborn as sns\n",
    "Var_Corr = wine.corr()\n",
    "sns.heatmap(Var_Corr, xticklabels=Var_Corr.columns, yticklabels=Var_Corr.columns, annot=False)"
   ]
  },
  {
   "cell_type": "markdown",
   "metadata": {},
   "source": [
    "As we observe from finding the correlation coefficient of each attribute to the quality of the wine, there seems to be no strong attribute that has a strong correlation of the quality of the wine because all of them have their correlation coefficient against the wine quality to be under 50%.\n",
    "\n",
    "In our observation of the heatmap, we do observe some high correlation among the attributes themselves.\n",
    "\n",
    "Density and Residual Sugar has a strong positive correlation coefficient.\n",
    "\n",
    "The following pairs of attributes have a strong negative correlation coefficient:\n",
    "\n",
    "pH and fixed acidity\n",
    "alcohol vs residual sugar, chlorides, total sulfur dioxide, density.\n",
    "\n",
    "By observing high correlation coefficients among the attributes themselves, maybe we can get rid or perform dimensionality reduction on the dataset."
   ]
  },
  {
   "cell_type": "markdown",
   "metadata": {},
   "source": [
    "### What makes wine to have high quality?\n",
    "\n",
    "Below, we will perform analysis on wine with quality of 8 and up."
   ]
  },
  {
   "cell_type": "code",
   "execution_count": 299,
   "metadata": {},
   "outputs": [
    {
     "data": {
      "text/html": [
       "<div>\n",
       "<style scoped>\n",
       "    .dataframe tbody tr th:only-of-type {\n",
       "        vertical-align: middle;\n",
       "    }\n",
       "\n",
       "    .dataframe tbody tr th {\n",
       "        vertical-align: top;\n",
       "    }\n",
       "\n",
       "    .dataframe thead th {\n",
       "        text-align: right;\n",
       "    }\n",
       "</style>\n",
       "<table border=\"1\" class=\"dataframe\">\n",
       "  <thead>\n",
       "    <tr style=\"text-align: right;\">\n",
       "      <th></th>\n",
       "      <th>fixed acidity</th>\n",
       "      <th>volatile acidity</th>\n",
       "      <th>citric acid</th>\n",
       "      <th>residual sugar</th>\n",
       "      <th>chlorides</th>\n",
       "      <th>free sulfur dioxide</th>\n",
       "      <th>total sulfur dioxide</th>\n",
       "      <th>density</th>\n",
       "      <th>pH</th>\n",
       "      <th>sulphates</th>\n",
       "      <th>alcohol</th>\n",
       "      <th>quality</th>\n",
       "    </tr>\n",
       "  </thead>\n",
       "  <tbody>\n",
       "    <tr>\n",
       "      <td>count</td>\n",
       "      <td>180.000000</td>\n",
       "      <td>180.000000</td>\n",
       "      <td>180.000000</td>\n",
       "      <td>180.000000</td>\n",
       "      <td>180.000000</td>\n",
       "      <td>180.000000</td>\n",
       "      <td>180.000000</td>\n",
       "      <td>180.000000</td>\n",
       "      <td>180.000000</td>\n",
       "      <td>180.000000</td>\n",
       "      <td>180.000000</td>\n",
       "      <td>180.000000</td>\n",
       "    </tr>\n",
       "    <tr>\n",
       "      <td>mean</td>\n",
       "      <td>6.678333</td>\n",
       "      <td>0.277972</td>\n",
       "      <td>0.328167</td>\n",
       "      <td>5.628333</td>\n",
       "      <td>0.038011</td>\n",
       "      <td>36.627778</td>\n",
       "      <td>125.883333</td>\n",
       "      <td>0.992214</td>\n",
       "      <td>3.221167</td>\n",
       "      <td>0.485667</td>\n",
       "      <td>11.651111</td>\n",
       "      <td>8.027778</td>\n",
       "    </tr>\n",
       "    <tr>\n",
       "      <td>std</td>\n",
       "      <td>0.830647</td>\n",
       "      <td>0.106912</td>\n",
       "      <td>0.085688</td>\n",
       "      <td>4.248523</td>\n",
       "      <td>0.013150</td>\n",
       "      <td>16.110662</td>\n",
       "      <td>32.719653</td>\n",
       "      <td>0.002791</td>\n",
       "      <td>0.151375</td>\n",
       "      <td>0.145702</td>\n",
       "      <td>1.274349</td>\n",
       "      <td>0.164794</td>\n",
       "    </tr>\n",
       "    <tr>\n",
       "      <td>min</td>\n",
       "      <td>3.900000</td>\n",
       "      <td>0.120000</td>\n",
       "      <td>0.040000</td>\n",
       "      <td>0.800000</td>\n",
       "      <td>0.014000</td>\n",
       "      <td>6.000000</td>\n",
       "      <td>59.000000</td>\n",
       "      <td>0.987130</td>\n",
       "      <td>2.940000</td>\n",
       "      <td>0.250000</td>\n",
       "      <td>8.500000</td>\n",
       "      <td>8.000000</td>\n",
       "    </tr>\n",
       "    <tr>\n",
       "      <td>25%</td>\n",
       "      <td>6.200000</td>\n",
       "      <td>0.200000</td>\n",
       "      <td>0.280000</td>\n",
       "      <td>2.075000</td>\n",
       "      <td>0.030000</td>\n",
       "      <td>28.000000</td>\n",
       "      <td>102.750000</td>\n",
       "      <td>0.990260</td>\n",
       "      <td>3.127500</td>\n",
       "      <td>0.380000</td>\n",
       "      <td>11.000000</td>\n",
       "      <td>8.000000</td>\n",
       "    </tr>\n",
       "    <tr>\n",
       "      <td>50%</td>\n",
       "      <td>6.800000</td>\n",
       "      <td>0.260000</td>\n",
       "      <td>0.320000</td>\n",
       "      <td>4.300000</td>\n",
       "      <td>0.035500</td>\n",
       "      <td>34.500000</td>\n",
       "      <td>122.000000</td>\n",
       "      <td>0.991620</td>\n",
       "      <td>3.230000</td>\n",
       "      <td>0.460000</td>\n",
       "      <td>12.000000</td>\n",
       "      <td>8.000000</td>\n",
       "    </tr>\n",
       "    <tr>\n",
       "      <td>75%</td>\n",
       "      <td>7.300000</td>\n",
       "      <td>0.330000</td>\n",
       "      <td>0.360000</td>\n",
       "      <td>8.150000</td>\n",
       "      <td>0.044000</td>\n",
       "      <td>44.250000</td>\n",
       "      <td>148.500000</td>\n",
       "      <td>0.993478</td>\n",
       "      <td>3.330000</td>\n",
       "      <td>0.582500</td>\n",
       "      <td>12.600000</td>\n",
       "      <td>8.000000</td>\n",
       "    </tr>\n",
       "    <tr>\n",
       "      <td>max</td>\n",
       "      <td>9.100000</td>\n",
       "      <td>0.660000</td>\n",
       "      <td>0.740000</td>\n",
       "      <td>14.800000</td>\n",
       "      <td>0.121000</td>\n",
       "      <td>105.000000</td>\n",
       "      <td>212.500000</td>\n",
       "      <td>1.000600</td>\n",
       "      <td>3.590000</td>\n",
       "      <td>0.950000</td>\n",
       "      <td>14.000000</td>\n",
       "      <td>9.000000</td>\n",
       "    </tr>\n",
       "  </tbody>\n",
       "</table>\n",
       "</div>"
      ],
      "text/plain": [
       "       fixed acidity  volatile acidity  citric acid  residual sugar  \\\n",
       "count     180.000000        180.000000   180.000000      180.000000   \n",
       "mean        6.678333          0.277972     0.328167        5.628333   \n",
       "std         0.830647          0.106912     0.085688        4.248523   \n",
       "min         3.900000          0.120000     0.040000        0.800000   \n",
       "25%         6.200000          0.200000     0.280000        2.075000   \n",
       "50%         6.800000          0.260000     0.320000        4.300000   \n",
       "75%         7.300000          0.330000     0.360000        8.150000   \n",
       "max         9.100000          0.660000     0.740000       14.800000   \n",
       "\n",
       "        chlorides  free sulfur dioxide  total sulfur dioxide     density  \\\n",
       "count  180.000000           180.000000            180.000000  180.000000   \n",
       "mean     0.038011            36.627778            125.883333    0.992214   \n",
       "std      0.013150            16.110662             32.719653    0.002791   \n",
       "min      0.014000             6.000000             59.000000    0.987130   \n",
       "25%      0.030000            28.000000            102.750000    0.990260   \n",
       "50%      0.035500            34.500000            122.000000    0.991620   \n",
       "75%      0.044000            44.250000            148.500000    0.993478   \n",
       "max      0.121000           105.000000            212.500000    1.000600   \n",
       "\n",
       "               pH   sulphates     alcohol     quality  \n",
       "count  180.000000  180.000000  180.000000  180.000000  \n",
       "mean     3.221167    0.485667   11.651111    8.027778  \n",
       "std      0.151375    0.145702    1.274349    0.164794  \n",
       "min      2.940000    0.250000    8.500000    8.000000  \n",
       "25%      3.127500    0.380000   11.000000    8.000000  \n",
       "50%      3.230000    0.460000   12.000000    8.000000  \n",
       "75%      3.330000    0.582500   12.600000    8.000000  \n",
       "max      3.590000    0.950000   14.000000    9.000000  "
      ]
     },
     "execution_count": 299,
     "metadata": {},
     "output_type": "execute_result"
    }
   ],
   "source": [
    "wine_eight_and_up = wine[wine[\"quality\"] >= 8]\n",
    "wine_eight_and_up.describe()"
   ]
  },
  {
   "cell_type": "markdown",
   "metadata": {},
   "source": [
    "### What makes wine to have low quality?"
   ]
  },
  {
   "cell_type": "markdown",
   "metadata": {},
   "source": [
    "Below, we will perform analysis on wine with quality of 4 and down"
   ]
  },
  {
   "cell_type": "code",
   "execution_count": 300,
   "metadata": {},
   "outputs": [
    {
     "data": {
      "text/html": [
       "<div>\n",
       "<style scoped>\n",
       "    .dataframe tbody tr th:only-of-type {\n",
       "        vertical-align: middle;\n",
       "    }\n",
       "\n",
       "    .dataframe tbody tr th {\n",
       "        vertical-align: top;\n",
       "    }\n",
       "\n",
       "    .dataframe thead th {\n",
       "        text-align: right;\n",
       "    }\n",
       "</style>\n",
       "<table border=\"1\" class=\"dataframe\">\n",
       "  <thead>\n",
       "    <tr style=\"text-align: right;\">\n",
       "      <th></th>\n",
       "      <th>fixed acidity</th>\n",
       "      <th>volatile acidity</th>\n",
       "      <th>citric acid</th>\n",
       "      <th>residual sugar</th>\n",
       "      <th>chlorides</th>\n",
       "      <th>free sulfur dioxide</th>\n",
       "      <th>total sulfur dioxide</th>\n",
       "      <th>density</th>\n",
       "      <th>pH</th>\n",
       "      <th>sulphates</th>\n",
       "      <th>alcohol</th>\n",
       "      <th>quality</th>\n",
       "    </tr>\n",
       "  </thead>\n",
       "  <tbody>\n",
       "    <tr>\n",
       "      <td>count</td>\n",
       "      <td>183.000000</td>\n",
       "      <td>183.000000</td>\n",
       "      <td>183.000000</td>\n",
       "      <td>183.000000</td>\n",
       "      <td>183.000000</td>\n",
       "      <td>183.000000</td>\n",
       "      <td>183.000000</td>\n",
       "      <td>183.000000</td>\n",
       "      <td>183.000000</td>\n",
       "      <td>183.000000</td>\n",
       "      <td>183.000000</td>\n",
       "      <td>183.000000</td>\n",
       "    </tr>\n",
       "    <tr>\n",
       "      <td>mean</td>\n",
       "      <td>7.180874</td>\n",
       "      <td>0.375984</td>\n",
       "      <td>0.307705</td>\n",
       "      <td>4.821038</td>\n",
       "      <td>0.050557</td>\n",
       "      <td>26.633880</td>\n",
       "      <td>130.232240</td>\n",
       "      <td>0.994343</td>\n",
       "      <td>3.183388</td>\n",
       "      <td>0.475956</td>\n",
       "      <td>10.173497</td>\n",
       "      <td>3.890710</td>\n",
       "    </tr>\n",
       "    <tr>\n",
       "      <td>std</td>\n",
       "      <td>1.171885</td>\n",
       "      <td>0.170525</td>\n",
       "      <td>0.157131</td>\n",
       "      <td>4.322845</td>\n",
       "      <td>0.028700</td>\n",
       "      <td>31.001858</td>\n",
       "      <td>62.373163</td>\n",
       "      <td>0.002504</td>\n",
       "      <td>0.168668</td>\n",
       "      <td>0.117847</td>\n",
       "      <td>1.027570</td>\n",
       "      <td>0.312858</td>\n",
       "    </tr>\n",
       "    <tr>\n",
       "      <td>min</td>\n",
       "      <td>4.200000</td>\n",
       "      <td>0.110000</td>\n",
       "      <td>0.000000</td>\n",
       "      <td>0.700000</td>\n",
       "      <td>0.013000</td>\n",
       "      <td>3.000000</td>\n",
       "      <td>10.000000</td>\n",
       "      <td>0.989200</td>\n",
       "      <td>2.830000</td>\n",
       "      <td>0.250000</td>\n",
       "      <td>8.000000</td>\n",
       "      <td>3.000000</td>\n",
       "    </tr>\n",
       "    <tr>\n",
       "      <td>25%</td>\n",
       "      <td>6.400000</td>\n",
       "      <td>0.260000</td>\n",
       "      <td>0.205000</td>\n",
       "      <td>1.350000</td>\n",
       "      <td>0.037500</td>\n",
       "      <td>9.000000</td>\n",
       "      <td>85.500000</td>\n",
       "      <td>0.992580</td>\n",
       "      <td>3.060000</td>\n",
       "      <td>0.380000</td>\n",
       "      <td>9.400000</td>\n",
       "      <td>4.000000</td>\n",
       "    </tr>\n",
       "    <tr>\n",
       "      <td>50%</td>\n",
       "      <td>6.900000</td>\n",
       "      <td>0.320000</td>\n",
       "      <td>0.300000</td>\n",
       "      <td>2.700000</td>\n",
       "      <td>0.046000</td>\n",
       "      <td>18.000000</td>\n",
       "      <td>119.000000</td>\n",
       "      <td>0.994100</td>\n",
       "      <td>3.160000</td>\n",
       "      <td>0.470000</td>\n",
       "      <td>10.100000</td>\n",
       "      <td>4.000000</td>\n",
       "    </tr>\n",
       "    <tr>\n",
       "      <td>75%</td>\n",
       "      <td>7.650000</td>\n",
       "      <td>0.460000</td>\n",
       "      <td>0.400000</td>\n",
       "      <td>7.500000</td>\n",
       "      <td>0.054000</td>\n",
       "      <td>33.500000</td>\n",
       "      <td>177.000000</td>\n",
       "      <td>0.996010</td>\n",
       "      <td>3.285000</td>\n",
       "      <td>0.540000</td>\n",
       "      <td>10.800000</td>\n",
       "      <td>4.000000</td>\n",
       "    </tr>\n",
       "    <tr>\n",
       "      <td>max</td>\n",
       "      <td>11.800000</td>\n",
       "      <td>1.100000</td>\n",
       "      <td>0.880000</td>\n",
       "      <td>17.550000</td>\n",
       "      <td>0.290000</td>\n",
       "      <td>289.000000</td>\n",
       "      <td>440.000000</td>\n",
       "      <td>1.000400</td>\n",
       "      <td>3.720000</td>\n",
       "      <td>0.870000</td>\n",
       "      <td>13.500000</td>\n",
       "      <td>4.000000</td>\n",
       "    </tr>\n",
       "  </tbody>\n",
       "</table>\n",
       "</div>"
      ],
      "text/plain": [
       "       fixed acidity  volatile acidity  citric acid  residual sugar  \\\n",
       "count     183.000000        183.000000   183.000000      183.000000   \n",
       "mean        7.180874          0.375984     0.307705        4.821038   \n",
       "std         1.171885          0.170525     0.157131        4.322845   \n",
       "min         4.200000          0.110000     0.000000        0.700000   \n",
       "25%         6.400000          0.260000     0.205000        1.350000   \n",
       "50%         6.900000          0.320000     0.300000        2.700000   \n",
       "75%         7.650000          0.460000     0.400000        7.500000   \n",
       "max        11.800000          1.100000     0.880000       17.550000   \n",
       "\n",
       "        chlorides  free sulfur dioxide  total sulfur dioxide     density  \\\n",
       "count  183.000000           183.000000            183.000000  183.000000   \n",
       "mean     0.050557            26.633880            130.232240    0.994343   \n",
       "std      0.028700            31.001858             62.373163    0.002504   \n",
       "min      0.013000             3.000000             10.000000    0.989200   \n",
       "25%      0.037500             9.000000             85.500000    0.992580   \n",
       "50%      0.046000            18.000000            119.000000    0.994100   \n",
       "75%      0.054000            33.500000            177.000000    0.996010   \n",
       "max      0.290000           289.000000            440.000000    1.000400   \n",
       "\n",
       "               pH   sulphates     alcohol     quality  \n",
       "count  183.000000  183.000000  183.000000  183.000000  \n",
       "mean     3.183388    0.475956   10.173497    3.890710  \n",
       "std      0.168668    0.117847    1.027570    0.312858  \n",
       "min      2.830000    0.250000    8.000000    3.000000  \n",
       "25%      3.060000    0.380000    9.400000    4.000000  \n",
       "50%      3.160000    0.470000   10.100000    4.000000  \n",
       "75%      3.285000    0.540000   10.800000    4.000000  \n",
       "max      3.720000    0.870000   13.500000    4.000000  "
      ]
     },
     "execution_count": 300,
     "metadata": {},
     "output_type": "execute_result"
    }
   ],
   "source": [
    "wine_four_and_down = wine[wine[\"quality\"] <= 4]\n",
    "wine_four_and_down.describe()"
   ]
  },
  {
   "cell_type": "code",
   "execution_count": 301,
   "metadata": {},
   "outputs": [
    {
     "name": "stdout",
     "output_type": "stream",
     "text": [
      "The mean difference in fixed acidity is: -0.502540983606556\n",
      "The mean difference in volatile acidity is: -0.09801138433515516\n",
      "The mean difference in citric acid is: 0.020461748633880006\n",
      "The mean difference in residual sugar is: 0.8072950819672116\n",
      "The mean difference in chlorides is: -0.012546265938069186\n",
      "The mean difference in free sulfur dioxide is: 9.993897996357013\n",
      "The mean difference in total sulfur dioxide is: -4.348907103825141\n",
      "The mean difference in density is: -0.002128671220399947\n",
      "The mean difference in pH is: 0.0377786885245901\n",
      "The mean difference in sulphates is: 0.009710382513660909\n",
      "The mean difference in alcohol is: 1.4776138433515449\n",
      "The mean difference in quality is: 4.1370673952641175\n"
     ]
    }
   ],
   "source": [
    "for attribute in wine.columns:\n",
    "    diff = wine_eight_and_up.describe().loc[\"mean\", attribute] - wine_four_and_down.describe().loc[\"mean\",attribute]\n",
    "    print(\"The mean difference in \" + str(attribute) + \" is: \" + str(diff))"
   ]
  },
  {
   "cell_type": "markdown",
   "metadata": {},
   "source": [
    "**Answer Wine 2**"
   ]
  },
  {
   "cell_type": "code",
   "execution_count": 302,
   "metadata": {},
   "outputs": [],
   "source": [
    "# Create a dataset by picking 2000 examples randomly\n",
    "wine_2000 = wine.sample(n = 2000)\n",
    "\n",
    "# turning y into a binary classifer\n",
    "# =< 7  rating is 0, else is 1\n",
    "wine_2000.loc[wine_2000['quality'] <= 7, \"quality\"] = 0\n",
    "wine_2000.loc[wine_2000['quality'] > 7, \"quality\"] = 1"
   ]
  },
  {
   "cell_type": "code",
   "execution_count": 303,
   "metadata": {},
   "outputs": [],
   "source": [
    "X = wine_2000.iloc[:, [i for i in range(11)]]\n",
    "y = wine_2000.iloc[:, [11]]"
   ]
  },
  {
   "cell_type": "code",
   "execution_count": 304,
   "metadata": {},
   "outputs": [
    {
     "data": {
      "text/html": [
       "<div>\n",
       "<style scoped>\n",
       "    .dataframe tbody tr th:only-of-type {\n",
       "        vertical-align: middle;\n",
       "    }\n",
       "\n",
       "    .dataframe tbody tr th {\n",
       "        vertical-align: top;\n",
       "    }\n",
       "\n",
       "    .dataframe thead th {\n",
       "        text-align: right;\n",
       "    }\n",
       "</style>\n",
       "<table border=\"1\" class=\"dataframe\">\n",
       "  <thead>\n",
       "    <tr style=\"text-align: right;\">\n",
       "      <th></th>\n",
       "      <th>fixed acidity</th>\n",
       "      <th>volatile acidity</th>\n",
       "      <th>citric acid</th>\n",
       "      <th>residual sugar</th>\n",
       "      <th>chlorides</th>\n",
       "      <th>free sulfur dioxide</th>\n",
       "      <th>total sulfur dioxide</th>\n",
       "      <th>density</th>\n",
       "      <th>pH</th>\n",
       "      <th>sulphates</th>\n",
       "      <th>alcohol</th>\n",
       "    </tr>\n",
       "  </thead>\n",
       "  <tbody>\n",
       "    <tr>\n",
       "      <td>2836</td>\n",
       "      <td>6.5</td>\n",
       "      <td>0.22</td>\n",
       "      <td>0.45</td>\n",
       "      <td>8.00</td>\n",
       "      <td>0.053</td>\n",
       "      <td>52.0</td>\n",
       "      <td>196.0</td>\n",
       "      <td>0.99590</td>\n",
       "      <td>3.23</td>\n",
       "      <td>0.48</td>\n",
       "      <td>9.1</td>\n",
       "    </tr>\n",
       "    <tr>\n",
       "      <td>4089</td>\n",
       "      <td>6.8</td>\n",
       "      <td>0.27</td>\n",
       "      <td>0.24</td>\n",
       "      <td>4.60</td>\n",
       "      <td>0.098</td>\n",
       "      <td>36.0</td>\n",
       "      <td>127.0</td>\n",
       "      <td>0.99412</td>\n",
       "      <td>3.15</td>\n",
       "      <td>0.49</td>\n",
       "      <td>9.6</td>\n",
       "    </tr>\n",
       "    <tr>\n",
       "      <td>675</td>\n",
       "      <td>6.1</td>\n",
       "      <td>0.28</td>\n",
       "      <td>0.25</td>\n",
       "      <td>6.90</td>\n",
       "      <td>0.056</td>\n",
       "      <td>44.0</td>\n",
       "      <td>201.0</td>\n",
       "      <td>0.99550</td>\n",
       "      <td>3.19</td>\n",
       "      <td>0.40</td>\n",
       "      <td>9.1</td>\n",
       "    </tr>\n",
       "    <tr>\n",
       "      <td>1575</td>\n",
       "      <td>6.8</td>\n",
       "      <td>0.17</td>\n",
       "      <td>0.74</td>\n",
       "      <td>2.40</td>\n",
       "      <td>0.053</td>\n",
       "      <td>61.0</td>\n",
       "      <td>182.0</td>\n",
       "      <td>0.99530</td>\n",
       "      <td>3.63</td>\n",
       "      <td>0.76</td>\n",
       "      <td>10.5</td>\n",
       "    </tr>\n",
       "    <tr>\n",
       "      <td>2570</td>\n",
       "      <td>6.6</td>\n",
       "      <td>0.24</td>\n",
       "      <td>0.28</td>\n",
       "      <td>1.80</td>\n",
       "      <td>0.028</td>\n",
       "      <td>39.0</td>\n",
       "      <td>132.0</td>\n",
       "      <td>0.99182</td>\n",
       "      <td>3.34</td>\n",
       "      <td>0.46</td>\n",
       "      <td>11.4</td>\n",
       "    </tr>\n",
       "    <tr>\n",
       "      <td>...</td>\n",
       "      <td>...</td>\n",
       "      <td>...</td>\n",
       "      <td>...</td>\n",
       "      <td>...</td>\n",
       "      <td>...</td>\n",
       "      <td>...</td>\n",
       "      <td>...</td>\n",
       "      <td>...</td>\n",
       "      <td>...</td>\n",
       "      <td>...</td>\n",
       "      <td>...</td>\n",
       "    </tr>\n",
       "    <tr>\n",
       "      <td>4031</td>\n",
       "      <td>6.4</td>\n",
       "      <td>0.29</td>\n",
       "      <td>0.57</td>\n",
       "      <td>1.00</td>\n",
       "      <td>0.060</td>\n",
       "      <td>15.0</td>\n",
       "      <td>120.0</td>\n",
       "      <td>0.99240</td>\n",
       "      <td>3.06</td>\n",
       "      <td>0.41</td>\n",
       "      <td>9.5</td>\n",
       "    </tr>\n",
       "    <tr>\n",
       "      <td>1655</td>\n",
       "      <td>7.8</td>\n",
       "      <td>0.28</td>\n",
       "      <td>0.49</td>\n",
       "      <td>1.30</td>\n",
       "      <td>0.046</td>\n",
       "      <td>27.0</td>\n",
       "      <td>142.0</td>\n",
       "      <td>0.99360</td>\n",
       "      <td>3.09</td>\n",
       "      <td>0.59</td>\n",
       "      <td>10.2</td>\n",
       "    </tr>\n",
       "    <tr>\n",
       "      <td>2247</td>\n",
       "      <td>6.1</td>\n",
       "      <td>0.15</td>\n",
       "      <td>0.29</td>\n",
       "      <td>6.20</td>\n",
       "      <td>0.046</td>\n",
       "      <td>39.0</td>\n",
       "      <td>151.0</td>\n",
       "      <td>0.99471</td>\n",
       "      <td>3.60</td>\n",
       "      <td>0.44</td>\n",
       "      <td>10.6</td>\n",
       "    </tr>\n",
       "    <tr>\n",
       "      <td>1342</td>\n",
       "      <td>8.4</td>\n",
       "      <td>0.58</td>\n",
       "      <td>0.27</td>\n",
       "      <td>12.15</td>\n",
       "      <td>0.033</td>\n",
       "      <td>37.0</td>\n",
       "      <td>116.0</td>\n",
       "      <td>0.99590</td>\n",
       "      <td>2.99</td>\n",
       "      <td>0.39</td>\n",
       "      <td>10.8</td>\n",
       "    </tr>\n",
       "    <tr>\n",
       "      <td>2909</td>\n",
       "      <td>6.2</td>\n",
       "      <td>0.18</td>\n",
       "      <td>0.30</td>\n",
       "      <td>1.00</td>\n",
       "      <td>0.031</td>\n",
       "      <td>23.0</td>\n",
       "      <td>73.0</td>\n",
       "      <td>0.99032</td>\n",
       "      <td>3.23</td>\n",
       "      <td>0.52</td>\n",
       "      <td>11.3</td>\n",
       "    </tr>\n",
       "  </tbody>\n",
       "</table>\n",
       "<p>1340 rows × 11 columns</p>\n",
       "</div>"
      ],
      "text/plain": [
       "      fixed acidity  volatile acidity  citric acid  residual sugar  chlorides  \\\n",
       "2836            6.5              0.22         0.45            8.00      0.053   \n",
       "4089            6.8              0.27         0.24            4.60      0.098   \n",
       "675             6.1              0.28         0.25            6.90      0.056   \n",
       "1575            6.8              0.17         0.74            2.40      0.053   \n",
       "2570            6.6              0.24         0.28            1.80      0.028   \n",
       "...             ...               ...          ...             ...        ...   \n",
       "4031            6.4              0.29         0.57            1.00      0.060   \n",
       "1655            7.8              0.28         0.49            1.30      0.046   \n",
       "2247            6.1              0.15         0.29            6.20      0.046   \n",
       "1342            8.4              0.58         0.27           12.15      0.033   \n",
       "2909            6.2              0.18         0.30            1.00      0.031   \n",
       "\n",
       "      free sulfur dioxide  total sulfur dioxide  density    pH  sulphates  \\\n",
       "2836                 52.0                 196.0  0.99590  3.23       0.48   \n",
       "4089                 36.0                 127.0  0.99412  3.15       0.49   \n",
       "675                  44.0                 201.0  0.99550  3.19       0.40   \n",
       "1575                 61.0                 182.0  0.99530  3.63       0.76   \n",
       "2570                 39.0                 132.0  0.99182  3.34       0.46   \n",
       "...                   ...                   ...      ...   ...        ...   \n",
       "4031                 15.0                 120.0  0.99240  3.06       0.41   \n",
       "1655                 27.0                 142.0  0.99360  3.09       0.59   \n",
       "2247                 39.0                 151.0  0.99471  3.60       0.44   \n",
       "1342                 37.0                 116.0  0.99590  2.99       0.39   \n",
       "2909                 23.0                  73.0  0.99032  3.23       0.52   \n",
       "\n",
       "      alcohol  \n",
       "2836      9.1  \n",
       "4089      9.6  \n",
       "675       9.1  \n",
       "1575     10.5  \n",
       "2570     11.4  \n",
       "...       ...  \n",
       "4031      9.5  \n",
       "1655     10.2  \n",
       "2247     10.6  \n",
       "1342     10.8  \n",
       "2909     11.3  \n",
       "\n",
       "[1340 rows x 11 columns]"
      ]
     },
     "execution_count": 304,
     "metadata": {},
     "output_type": "execute_result"
    }
   ],
   "source": [
    "# the test set will be 33% of the original dataset\n",
    "X_train, X_test, y_train, y_test = train_test_split(\n",
    "    X, y, test_size=0.33)\n",
    "X_train"
   ]
  },
  {
   "cell_type": "code",
   "execution_count": 305,
   "metadata": {},
   "outputs": [
    {
     "name": "stdout",
     "output_type": "stream",
     "text": [
      "0.9696969696969697\n",
      "--- 0.15952205657958984 seconds ---\n"
     ]
    },
    {
     "name": "stderr",
     "output_type": "stream",
     "text": [
      "/opt/anaconda3/lib/python3.7/site-packages/ipykernel_launcher.py:6: DataConversionWarning: A column-vector y was passed when a 1d array was expected. Please change the shape of y to (n_samples, ), for example using ravel().\n",
      "  \n"
     ]
    }
   ],
   "source": [
    "import time\n",
    "start_time = time.time()\n",
    "\n",
    "# training the classifer with k = 3 and the default options\n",
    "predictor = neighbors.KNeighborsClassifier(n_neighbors = 3)\n",
    "predictor.fit(X_train, y_train);\n",
    "\n",
    "print(predictor.score(X_test, y_test))\n",
    "print(\"--- %s seconds ---\" % (time.time() - start_time))"
   ]
  },
  {
   "cell_type": "markdown",
   "metadata": {},
   "source": [
    "With k = 3, the accuracy rate is 96%, which is very impressive.\n",
    "\n",
    "The total computational time for a dataset of 2000 examples is .15 seconds."
   ]
  },
  {
   "cell_type": "markdown",
   "metadata": {},
   "source": [
    "**Answer Wine 3:**"
   ]
  },
  {
   "cell_type": "code",
   "execution_count": 306,
   "metadata": {},
   "outputs": [
    {
     "name": "stderr",
     "output_type": "stream",
     "text": [
      "/opt/anaconda3/lib/python3.7/site-packages/ipykernel_launcher.py:10: DataConversionWarning: A column-vector y was passed when a 1d array was expected. Please change the shape of y to (n_samples, ), for example using ravel().\n",
      "  # Remove the CWD from sys.path while we load stuff.\n",
      "/opt/anaconda3/lib/python3.7/site-packages/ipykernel_launcher.py:10: DataConversionWarning: A column-vector y was passed when a 1d array was expected. Please change the shape of y to (n_samples, ), for example using ravel().\n",
      "  # Remove the CWD from sys.path while we load stuff.\n",
      "/opt/anaconda3/lib/python3.7/site-packages/ipykernel_launcher.py:10: DataConversionWarning: A column-vector y was passed when a 1d array was expected. Please change the shape of y to (n_samples, ), for example using ravel().\n",
      "  # Remove the CWD from sys.path while we load stuff.\n"
     ]
    },
    {
     "name": "stdout",
     "output_type": "stream",
     "text": [
      "1 uniform euclidean 0.9590909090909091\n",
      "1 uniform manhattan 0.9575757575757575\n",
      "1 uniform chebyshev 0.9575757575757575\n"
     ]
    },
    {
     "name": "stderr",
     "output_type": "stream",
     "text": [
      "/opt/anaconda3/lib/python3.7/site-packages/ipykernel_launcher.py:10: DataConversionWarning: A column-vector y was passed when a 1d array was expected. Please change the shape of y to (n_samples, ), for example using ravel().\n",
      "  # Remove the CWD from sys.path while we load stuff.\n",
      "/opt/anaconda3/lib/python3.7/site-packages/ipykernel_launcher.py:10: DataConversionWarning: A column-vector y was passed when a 1d array was expected. Please change the shape of y to (n_samples, ), for example using ravel().\n",
      "  # Remove the CWD from sys.path while we load stuff.\n",
      "/opt/anaconda3/lib/python3.7/site-packages/ipykernel_launcher.py:10: DataConversionWarning: A column-vector y was passed when a 1d array was expected. Please change the shape of y to (n_samples, ), for example using ravel().\n",
      "  # Remove the CWD from sys.path while we load stuff.\n",
      "/opt/anaconda3/lib/python3.7/site-packages/ipykernel_launcher.py:10: DataConversionWarning: A column-vector y was passed when a 1d array was expected. Please change the shape of y to (n_samples, ), for example using ravel().\n",
      "  # Remove the CWD from sys.path while we load stuff.\n",
      "/opt/anaconda3/lib/python3.7/site-packages/ipykernel_launcher.py:10: DataConversionWarning: A column-vector y was passed when a 1d array was expected. Please change the shape of y to (n_samples, ), for example using ravel().\n",
      "  # Remove the CWD from sys.path while we load stuff.\n",
      "/opt/anaconda3/lib/python3.7/site-packages/ipykernel_launcher.py:10: DataConversionWarning: A column-vector y was passed when a 1d array was expected. Please change the shape of y to (n_samples, ), for example using ravel().\n",
      "  # Remove the CWD from sys.path while we load stuff.\n"
     ]
    },
    {
     "name": "stdout",
     "output_type": "stream",
     "text": [
      "1 uniform minkowski 0.9590909090909091\n",
      "1 distance euclidean 0.9590909090909091\n",
      "1 distance manhattan 0.9575757575757575\n",
      "1 distance chebyshev 0.9575757575757575\n",
      "1 distance minkowski 0.9590909090909091\n",
      "3 uniform euclidean 0.9696969696969697\n"
     ]
    },
    {
     "name": "stderr",
     "output_type": "stream",
     "text": [
      "/opt/anaconda3/lib/python3.7/site-packages/ipykernel_launcher.py:10: DataConversionWarning: A column-vector y was passed when a 1d array was expected. Please change the shape of y to (n_samples, ), for example using ravel().\n",
      "  # Remove the CWD from sys.path while we load stuff.\n",
      "/opt/anaconda3/lib/python3.7/site-packages/ipykernel_launcher.py:10: DataConversionWarning: A column-vector y was passed when a 1d array was expected. Please change the shape of y to (n_samples, ), for example using ravel().\n",
      "  # Remove the CWD from sys.path while we load stuff.\n",
      "/opt/anaconda3/lib/python3.7/site-packages/ipykernel_launcher.py:10: DataConversionWarning: A column-vector y was passed when a 1d array was expected. Please change the shape of y to (n_samples, ), for example using ravel().\n",
      "  # Remove the CWD from sys.path while we load stuff.\n"
     ]
    },
    {
     "name": "stdout",
     "output_type": "stream",
     "text": [
      "3 uniform manhattan 0.9712121212121212\n",
      "3 uniform chebyshev 0.9666666666666667\n",
      "3 uniform minkowski 0.9696969696969697\n",
      "3 distance euclidean 0.9712121212121212\n",
      "3 distance manhattan 0.9742424242424242\n",
      "3 distance chebyshev 0.9696969696969697\n"
     ]
    },
    {
     "name": "stderr",
     "output_type": "stream",
     "text": [
      "/opt/anaconda3/lib/python3.7/site-packages/ipykernel_launcher.py:10: DataConversionWarning: A column-vector y was passed when a 1d array was expected. Please change the shape of y to (n_samples, ), for example using ravel().\n",
      "  # Remove the CWD from sys.path while we load stuff.\n",
      "/opt/anaconda3/lib/python3.7/site-packages/ipykernel_launcher.py:10: DataConversionWarning: A column-vector y was passed when a 1d array was expected. Please change the shape of y to (n_samples, ), for example using ravel().\n",
      "  # Remove the CWD from sys.path while we load stuff.\n",
      "/opt/anaconda3/lib/python3.7/site-packages/ipykernel_launcher.py:10: DataConversionWarning: A column-vector y was passed when a 1d array was expected. Please change the shape of y to (n_samples, ), for example using ravel().\n",
      "  # Remove the CWD from sys.path while we load stuff.\n",
      "/opt/anaconda3/lib/python3.7/site-packages/ipykernel_launcher.py:10: DataConversionWarning: A column-vector y was passed when a 1d array was expected. Please change the shape of y to (n_samples, ), for example using ravel().\n",
      "  # Remove the CWD from sys.path while we load stuff.\n",
      "/opt/anaconda3/lib/python3.7/site-packages/ipykernel_launcher.py:10: DataConversionWarning: A column-vector y was passed when a 1d array was expected. Please change the shape of y to (n_samples, ), for example using ravel().\n",
      "  # Remove the CWD from sys.path while we load stuff.\n"
     ]
    },
    {
     "name": "stdout",
     "output_type": "stream",
     "text": [
      "3 distance minkowski 0.9712121212121212\n",
      "5 uniform euclidean 0.9712121212121212\n"
     ]
    },
    {
     "name": "stderr",
     "output_type": "stream",
     "text": [
      "/opt/anaconda3/lib/python3.7/site-packages/ipykernel_launcher.py:10: DataConversionWarning: A column-vector y was passed when a 1d array was expected. Please change the shape of y to (n_samples, ), for example using ravel().\n",
      "  # Remove the CWD from sys.path while we load stuff.\n"
     ]
    },
    {
     "name": "stdout",
     "output_type": "stream",
     "text": [
      "5 uniform manhattan 0.9696969696969697\n",
      "5 uniform chebyshev 0.9712121212121212\n",
      "5 uniform minkowski 0.9712121212121212\n",
      "5 distance euclidean 0.9742424242424242\n"
     ]
    },
    {
     "name": "stderr",
     "output_type": "stream",
     "text": [
      "/opt/anaconda3/lib/python3.7/site-packages/ipykernel_launcher.py:10: DataConversionWarning: A column-vector y was passed when a 1d array was expected. Please change the shape of y to (n_samples, ), for example using ravel().\n",
      "  # Remove the CWD from sys.path while we load stuff.\n",
      "/opt/anaconda3/lib/python3.7/site-packages/ipykernel_launcher.py:10: DataConversionWarning: A column-vector y was passed when a 1d array was expected. Please change the shape of y to (n_samples, ), for example using ravel().\n",
      "  # Remove the CWD from sys.path while we load stuff.\n",
      "/opt/anaconda3/lib/python3.7/site-packages/ipykernel_launcher.py:10: DataConversionWarning: A column-vector y was passed when a 1d array was expected. Please change the shape of y to (n_samples, ), for example using ravel().\n",
      "  # Remove the CWD from sys.path while we load stuff.\n",
      "/opt/anaconda3/lib/python3.7/site-packages/ipykernel_launcher.py:10: DataConversionWarning: A column-vector y was passed when a 1d array was expected. Please change the shape of y to (n_samples, ), for example using ravel().\n",
      "  # Remove the CWD from sys.path while we load stuff.\n"
     ]
    },
    {
     "name": "stdout",
     "output_type": "stream",
     "text": [
      "5 distance manhattan 0.9742424242424242\n",
      "5 distance chebyshev 0.9772727272727273\n",
      "5 distance minkowski 0.9742424242424242\n",
      "5 uniform euclidean 0.9712121212121212\n"
     ]
    },
    {
     "name": "stderr",
     "output_type": "stream",
     "text": [
      "/opt/anaconda3/lib/python3.7/site-packages/ipykernel_launcher.py:10: DataConversionWarning: A column-vector y was passed when a 1d array was expected. Please change the shape of y to (n_samples, ), for example using ravel().\n",
      "  # Remove the CWD from sys.path while we load stuff.\n",
      "/opt/anaconda3/lib/python3.7/site-packages/ipykernel_launcher.py:10: DataConversionWarning: A column-vector y was passed when a 1d array was expected. Please change the shape of y to (n_samples, ), for example using ravel().\n",
      "  # Remove the CWD from sys.path while we load stuff.\n",
      "/opt/anaconda3/lib/python3.7/site-packages/ipykernel_launcher.py:10: DataConversionWarning: A column-vector y was passed when a 1d array was expected. Please change the shape of y to (n_samples, ), for example using ravel().\n",
      "  # Remove the CWD from sys.path while we load stuff.\n",
      "/opt/anaconda3/lib/python3.7/site-packages/ipykernel_launcher.py:10: DataConversionWarning: A column-vector y was passed when a 1d array was expected. Please change the shape of y to (n_samples, ), for example using ravel().\n",
      "  # Remove the CWD from sys.path while we load stuff.\n"
     ]
    },
    {
     "name": "stdout",
     "output_type": "stream",
     "text": [
      "5 uniform manhattan 0.9696969696969697\n",
      "5 uniform chebyshev 0.9712121212121212\n"
     ]
    },
    {
     "name": "stderr",
     "output_type": "stream",
     "text": [
      "/opt/anaconda3/lib/python3.7/site-packages/ipykernel_launcher.py:10: DataConversionWarning: A column-vector y was passed when a 1d array was expected. Please change the shape of y to (n_samples, ), for example using ravel().\n",
      "  # Remove the CWD from sys.path while we load stuff.\n",
      "/opt/anaconda3/lib/python3.7/site-packages/ipykernel_launcher.py:10: DataConversionWarning: A column-vector y was passed when a 1d array was expected. Please change the shape of y to (n_samples, ), for example using ravel().\n",
      "  # Remove the CWD from sys.path while we load stuff.\n"
     ]
    },
    {
     "name": "stdout",
     "output_type": "stream",
     "text": [
      "5 uniform minkowski 0.9712121212121212\n",
      "5 distance euclidean 0.9742424242424242\n",
      "5 distance manhattan 0.9742424242424242\n",
      "5 distance chebyshev 0.9772727272727273\n",
      "5 distance minkowski 0.9742424242424242\n"
     ]
    },
    {
     "name": "stderr",
     "output_type": "stream",
     "text": [
      "/opt/anaconda3/lib/python3.7/site-packages/ipykernel_launcher.py:10: DataConversionWarning: A column-vector y was passed when a 1d array was expected. Please change the shape of y to (n_samples, ), for example using ravel().\n",
      "  # Remove the CWD from sys.path while we load stuff.\n",
      "/opt/anaconda3/lib/python3.7/site-packages/ipykernel_launcher.py:10: DataConversionWarning: A column-vector y was passed when a 1d array was expected. Please change the shape of y to (n_samples, ), for example using ravel().\n",
      "  # Remove the CWD from sys.path while we load stuff.\n",
      "/opt/anaconda3/lib/python3.7/site-packages/ipykernel_launcher.py:10: DataConversionWarning: A column-vector y was passed when a 1d array was expected. Please change the shape of y to (n_samples, ), for example using ravel().\n",
      "  # Remove the CWD from sys.path while we load stuff.\n",
      "/opt/anaconda3/lib/python3.7/site-packages/ipykernel_launcher.py:10: DataConversionWarning: A column-vector y was passed when a 1d array was expected. Please change the shape of y to (n_samples, ), for example using ravel().\n",
      "  # Remove the CWD from sys.path while we load stuff.\n",
      "/opt/anaconda3/lib/python3.7/site-packages/ipykernel_launcher.py:10: DataConversionWarning: A column-vector y was passed when a 1d array was expected. Please change the shape of y to (n_samples, ), for example using ravel().\n",
      "  # Remove the CWD from sys.path while we load stuff.\n"
     ]
    },
    {
     "name": "stdout",
     "output_type": "stream",
     "text": [
      "15 uniform euclidean 0.9712121212121212\n",
      "15 uniform manhattan 0.9712121212121212\n",
      "15 uniform chebyshev 0.9712121212121212\n"
     ]
    },
    {
     "name": "stderr",
     "output_type": "stream",
     "text": [
      "/opt/anaconda3/lib/python3.7/site-packages/ipykernel_launcher.py:10: DataConversionWarning: A column-vector y was passed when a 1d array was expected. Please change the shape of y to (n_samples, ), for example using ravel().\n",
      "  # Remove the CWD from sys.path while we load stuff.\n",
      "/opt/anaconda3/lib/python3.7/site-packages/ipykernel_launcher.py:10: DataConversionWarning: A column-vector y was passed when a 1d array was expected. Please change the shape of y to (n_samples, ), for example using ravel().\n",
      "  # Remove the CWD from sys.path while we load stuff.\n",
      "/opt/anaconda3/lib/python3.7/site-packages/ipykernel_launcher.py:10: DataConversionWarning: A column-vector y was passed when a 1d array was expected. Please change the shape of y to (n_samples, ), for example using ravel().\n",
      "  # Remove the CWD from sys.path while we load stuff.\n"
     ]
    },
    {
     "name": "stdout",
     "output_type": "stream",
     "text": [
      "15 uniform minkowski 0.9712121212121212\n",
      "15 distance euclidean 0.9787878787878788\n",
      "15 distance manhattan 0.9787878787878788\n",
      "15 distance chebyshev 0.9787878787878788\n",
      "15 distance minkowski 0.9787878787878788\n"
     ]
    },
    {
     "name": "stderr",
     "output_type": "stream",
     "text": [
      "/opt/anaconda3/lib/python3.7/site-packages/ipykernel_launcher.py:10: DataConversionWarning: A column-vector y was passed when a 1d array was expected. Please change the shape of y to (n_samples, ), for example using ravel().\n",
      "  # Remove the CWD from sys.path while we load stuff.\n",
      "/opt/anaconda3/lib/python3.7/site-packages/ipykernel_launcher.py:10: DataConversionWarning: A column-vector y was passed when a 1d array was expected. Please change the shape of y to (n_samples, ), for example using ravel().\n",
      "  # Remove the CWD from sys.path while we load stuff.\n",
      "/opt/anaconda3/lib/python3.7/site-packages/ipykernel_launcher.py:10: DataConversionWarning: A column-vector y was passed when a 1d array was expected. Please change the shape of y to (n_samples, ), for example using ravel().\n",
      "  # Remove the CWD from sys.path while we load stuff.\n",
      "/opt/anaconda3/lib/python3.7/site-packages/ipykernel_launcher.py:10: DataConversionWarning: A column-vector y was passed when a 1d array was expected. Please change the shape of y to (n_samples, ), for example using ravel().\n",
      "  # Remove the CWD from sys.path while we load stuff.\n",
      "/opt/anaconda3/lib/python3.7/site-packages/ipykernel_launcher.py:10: DataConversionWarning: A column-vector y was passed when a 1d array was expected. Please change the shape of y to (n_samples, ), for example using ravel().\n",
      "  # Remove the CWD from sys.path while we load stuff.\n"
     ]
    },
    {
     "name": "stdout",
     "output_type": "stream",
     "text": [
      "25 uniform euclidean 0.9712121212121212\n",
      "25 uniform manhattan 0.9712121212121212\n",
      "25 uniform chebyshev 0.9712121212121212\n"
     ]
    },
    {
     "name": "stderr",
     "output_type": "stream",
     "text": [
      "/opt/anaconda3/lib/python3.7/site-packages/ipykernel_launcher.py:10: DataConversionWarning: A column-vector y was passed when a 1d array was expected. Please change the shape of y to (n_samples, ), for example using ravel().\n",
      "  # Remove the CWD from sys.path while we load stuff.\n",
      "/opt/anaconda3/lib/python3.7/site-packages/ipykernel_launcher.py:10: DataConversionWarning: A column-vector y was passed when a 1d array was expected. Please change the shape of y to (n_samples, ), for example using ravel().\n",
      "  # Remove the CWD from sys.path while we load stuff.\n",
      "/opt/anaconda3/lib/python3.7/site-packages/ipykernel_launcher.py:10: DataConversionWarning: A column-vector y was passed when a 1d array was expected. Please change the shape of y to (n_samples, ), for example using ravel().\n",
      "  # Remove the CWD from sys.path while we load stuff.\n"
     ]
    },
    {
     "name": "stdout",
     "output_type": "stream",
     "text": [
      "25 uniform minkowski 0.9712121212121212\n",
      "25 distance euclidean 0.9787878787878788\n",
      "25 distance manhattan 0.9787878787878788\n",
      "25 distance chebyshev 0.9787878787878788\n",
      "25 distance minkowski 0.9787878787878788\n",
      "50 uniform euclidean 0.9712121212121212\n"
     ]
    },
    {
     "name": "stderr",
     "output_type": "stream",
     "text": [
      "/opt/anaconda3/lib/python3.7/site-packages/ipykernel_launcher.py:10: DataConversionWarning: A column-vector y was passed when a 1d array was expected. Please change the shape of y to (n_samples, ), for example using ravel().\n",
      "  # Remove the CWD from sys.path while we load stuff.\n",
      "/opt/anaconda3/lib/python3.7/site-packages/ipykernel_launcher.py:10: DataConversionWarning: A column-vector y was passed when a 1d array was expected. Please change the shape of y to (n_samples, ), for example using ravel().\n",
      "  # Remove the CWD from sys.path while we load stuff.\n",
      "/opt/anaconda3/lib/python3.7/site-packages/ipykernel_launcher.py:10: DataConversionWarning: A column-vector y was passed when a 1d array was expected. Please change the shape of y to (n_samples, ), for example using ravel().\n",
      "  # Remove the CWD from sys.path while we load stuff.\n",
      "/opt/anaconda3/lib/python3.7/site-packages/ipykernel_launcher.py:10: DataConversionWarning: A column-vector y was passed when a 1d array was expected. Please change the shape of y to (n_samples, ), for example using ravel().\n",
      "  # Remove the CWD from sys.path while we load stuff.\n",
      "/opt/anaconda3/lib/python3.7/site-packages/ipykernel_launcher.py:10: DataConversionWarning: A column-vector y was passed when a 1d array was expected. Please change the shape of y to (n_samples, ), for example using ravel().\n",
      "  # Remove the CWD from sys.path while we load stuff.\n",
      "/opt/anaconda3/lib/python3.7/site-packages/ipykernel_launcher.py:10: DataConversionWarning: A column-vector y was passed when a 1d array was expected. Please change the shape of y to (n_samples, ), for example using ravel().\n",
      "  # Remove the CWD from sys.path while we load stuff.\n"
     ]
    },
    {
     "name": "stdout",
     "output_type": "stream",
     "text": [
      "50 uniform manhattan 0.9712121212121212\n"
     ]
    },
    {
     "name": "stderr",
     "output_type": "stream",
     "text": [
      "/opt/anaconda3/lib/python3.7/site-packages/ipykernel_launcher.py:10: DataConversionWarning: A column-vector y was passed when a 1d array was expected. Please change the shape of y to (n_samples, ), for example using ravel().\n",
      "  # Remove the CWD from sys.path while we load stuff.\n"
     ]
    },
    {
     "name": "stdout",
     "output_type": "stream",
     "text": [
      "50 uniform chebyshev 0.9712121212121212\n"
     ]
    },
    {
     "name": "stderr",
     "output_type": "stream",
     "text": [
      "/opt/anaconda3/lib/python3.7/site-packages/ipykernel_launcher.py:10: DataConversionWarning: A column-vector y was passed when a 1d array was expected. Please change the shape of y to (n_samples, ), for example using ravel().\n",
      "  # Remove the CWD from sys.path while we load stuff.\n"
     ]
    },
    {
     "name": "stdout",
     "output_type": "stream",
     "text": [
      "50 uniform minkowski 0.9712121212121212\n",
      "50 distance euclidean 0.9787878787878788\n",
      "50 distance manhattan 0.9787878787878788\n"
     ]
    },
    {
     "name": "stderr",
     "output_type": "stream",
     "text": [
      "/opt/anaconda3/lib/python3.7/site-packages/ipykernel_launcher.py:10: DataConversionWarning: A column-vector y was passed when a 1d array was expected. Please change the shape of y to (n_samples, ), for example using ravel().\n",
      "  # Remove the CWD from sys.path while we load stuff.\n",
      "/opt/anaconda3/lib/python3.7/site-packages/ipykernel_launcher.py:10: DataConversionWarning: A column-vector y was passed when a 1d array was expected. Please change the shape of y to (n_samples, ), for example using ravel().\n",
      "  # Remove the CWD from sys.path while we load stuff.\n",
      "/opt/anaconda3/lib/python3.7/site-packages/ipykernel_launcher.py:10: DataConversionWarning: A column-vector y was passed when a 1d array was expected. Please change the shape of y to (n_samples, ), for example using ravel().\n",
      "  # Remove the CWD from sys.path while we load stuff.\n"
     ]
    },
    {
     "name": "stdout",
     "output_type": "stream",
     "text": [
      "50 distance chebyshev 0.9787878787878788\n",
      "50 distance minkowski 0.9787878787878788\n",
      "[(15, 'distance', 'euclidean'), (15, 'distance', 'manhattan'), (15, 'distance', 'chebyshev'), (15, 'distance', 'minkowski'), (25, 'distance', 'euclidean'), (25, 'distance', 'manhattan'), (25, 'distance', 'chebyshev'), (25, 'distance', 'minkowski'), (50, 'distance', 'euclidean'), (50, 'distance', 'manhattan')]\n"
     ]
    },
    {
     "name": "stderr",
     "output_type": "stream",
     "text": [
      "/opt/anaconda3/lib/python3.7/site-packages/ipykernel_launcher.py:10: DataConversionWarning: A column-vector y was passed when a 1d array was expected. Please change the shape of y to (n_samples, ), for example using ravel().\n",
      "  # Remove the CWD from sys.path while we load stuff.\n"
     ]
    }
   ],
   "source": [
    "k_choices = [1,3,5,5,15,25,50]\n",
    "weights = ['uniform', 'distance']\n",
    "metric_choices = ['euclidean', 'manhattan', 'chebyshev', 'minkowski']\n",
    "dict_kNN = {}\n",
    "\n",
    "for k in k_choices:\n",
    "    for w in weights:\n",
    "        for m in metric_choices:\n",
    "            predictor = neighbors.KNeighborsClassifier(n_neighbors = k, metric=m, weights=w, p=2)\n",
    "            predictor.fit(X_train, y_train);\n",
    "            accuracy = predictor.score(X_test,y_test)\n",
    "            dict_kNN[(k, w, m)] = accuracy\n",
    "            print(k, w, m, accuracy)\n",
    "# sorting the dictionary by values in descending order\n",
    "sorted_dict = [k for k, v in sorted(dict_kNN.items(), key=lambda item: item[1], reverse=True)]\n",
    "\n",
    "# print out the paramaters lists that gave the top 10 accuracy rate\n",
    "print(sorted_dict[:10])"
   ]
  },
  {
   "cell_type": "markdown",
   "metadata": {},
   "source": [
    "The following parameter list yields the highest accuracy rate:\n",
    "\n",
    "(5, 'distance', 'chebyshev'), \n",
    "\n",
    "(5, 'distance', 'euclidean'), \n",
    "\n",
    "(5, 'distance', 'minkowski'), \n",
    "\n",
    "(15, 'distance', 'euclidean'), \n",
    "\n",
    "(15, 'distance', 'manhattan'), \n",
    "\n",
    "(15, 'distance', 'chebyshev'), \n",
    "\n",
    "(15, 'distance', 'minkowski'), \n",
    "\n",
    "(25, 'distance', 'euclidean'), \n",
    "\n",
    "(25, 'distance', 'manhattan'), \n",
    "\n",
    "(25, 'distance', 'chebyshev')"
   ]
  },
  {
   "cell_type": "code",
   "execution_count": 307,
   "metadata": {},
   "outputs": [
    {
     "name": "stdout",
     "output_type": "stream",
     "text": [
      "Params  (15, 'distance', 'euclidean') has accuracy rate:  0.9787878787878788\n",
      "Params  (15, 'distance', 'manhattan') has accuracy rate:  0.9787878787878788\n",
      "Params  (15, 'distance', 'chebyshev') has accuracy rate:  0.9787878787878788\n",
      "Params  (15, 'distance', 'minkowski') has accuracy rate:  0.9787878787878788\n",
      "Params  (25, 'distance', 'euclidean') has accuracy rate:  0.9787878787878788\n",
      "Params  (25, 'distance', 'manhattan') has accuracy rate:  0.9787878787878788\n",
      "Params  (25, 'distance', 'chebyshev') has accuracy rate:  0.9787878787878788\n",
      "Params  (25, 'distance', 'minkowski') has accuracy rate:  0.9787878787878788\n",
      "Params  (50, 'distance', 'euclidean') has accuracy rate:  0.9787878787878788\n",
      "Params  (50, 'distance', 'manhattan') has accuracy rate:  0.9787878787878788\n"
     ]
    }
   ],
   "source": [
    "for k in sorted_dict[:10]:\n",
    "    print(\"Params \", k, \"has accuracy rate: \", dict_kNN[k])"
   ]
  },
  {
   "cell_type": "markdown",
   "metadata": {},
   "source": [
    "**Answer Wine 4:**\n",
    "The formula for normalizing the data in which the minum is 0 and the maximum is 1 is:\n",
    "\n",
    "normalized_data = (x - min) / (max - min)"
   ]
  },
  {
   "cell_type": "code",
   "execution_count": 308,
   "metadata": {},
   "outputs": [
    {
     "data": {
      "text/html": [
       "<div>\n",
       "<style scoped>\n",
       "    .dataframe tbody tr th:only-of-type {\n",
       "        vertical-align: middle;\n",
       "    }\n",
       "\n",
       "    .dataframe tbody tr th {\n",
       "        vertical-align: top;\n",
       "    }\n",
       "\n",
       "    .dataframe thead th {\n",
       "        text-align: right;\n",
       "    }\n",
       "</style>\n",
       "<table border=\"1\" class=\"dataframe\">\n",
       "  <thead>\n",
       "    <tr style=\"text-align: right;\">\n",
       "      <th></th>\n",
       "      <th>fixed acidity</th>\n",
       "      <th>volatile acidity</th>\n",
       "      <th>citric acid</th>\n",
       "      <th>residual sugar</th>\n",
       "      <th>chlorides</th>\n",
       "      <th>free sulfur dioxide</th>\n",
       "      <th>total sulfur dioxide</th>\n",
       "      <th>density</th>\n",
       "      <th>pH</th>\n",
       "      <th>sulphates</th>\n",
       "      <th>alcohol</th>\n",
       "    </tr>\n",
       "  </thead>\n",
       "  <tbody>\n",
       "    <tr>\n",
       "      <td>2836</td>\n",
       "      <td>0.214286</td>\n",
       "      <td>0.164706</td>\n",
       "      <td>0.45</td>\n",
       "      <td>0.290766</td>\n",
       "      <td>0.141304</td>\n",
       "      <td>0.168421</td>\n",
       "      <td>0.399015</td>\n",
       "      <td>0.546040</td>\n",
       "      <td>0.448980</td>\n",
       "      <td>0.302326</td>\n",
       "      <td>0.183333</td>\n",
       "    </tr>\n",
       "    <tr>\n",
       "      <td>4089</td>\n",
       "      <td>0.244898</td>\n",
       "      <td>0.223529</td>\n",
       "      <td>0.24</td>\n",
       "      <td>0.157171</td>\n",
       "      <td>0.304348</td>\n",
       "      <td>0.112281</td>\n",
       "      <td>0.229064</td>\n",
       "      <td>0.431423</td>\n",
       "      <td>0.367347</td>\n",
       "      <td>0.313953</td>\n",
       "      <td>0.266667</td>\n",
       "    </tr>\n",
       "    <tr>\n",
       "      <td>675</td>\n",
       "      <td>0.173469</td>\n",
       "      <td>0.235294</td>\n",
       "      <td>0.25</td>\n",
       "      <td>0.247544</td>\n",
       "      <td>0.152174</td>\n",
       "      <td>0.140351</td>\n",
       "      <td>0.411330</td>\n",
       "      <td>0.520283</td>\n",
       "      <td>0.408163</td>\n",
       "      <td>0.209302</td>\n",
       "      <td>0.183333</td>\n",
       "    </tr>\n",
       "    <tr>\n",
       "      <td>1575</td>\n",
       "      <td>0.244898</td>\n",
       "      <td>0.105882</td>\n",
       "      <td>0.74</td>\n",
       "      <td>0.070727</td>\n",
       "      <td>0.141304</td>\n",
       "      <td>0.200000</td>\n",
       "      <td>0.364532</td>\n",
       "      <td>0.507405</td>\n",
       "      <td>0.857143</td>\n",
       "      <td>0.627907</td>\n",
       "      <td>0.416667</td>\n",
       "    </tr>\n",
       "    <tr>\n",
       "      <td>2570</td>\n",
       "      <td>0.224490</td>\n",
       "      <td>0.188235</td>\n",
       "      <td>0.28</td>\n",
       "      <td>0.047151</td>\n",
       "      <td>0.050725</td>\n",
       "      <td>0.122807</td>\n",
       "      <td>0.241379</td>\n",
       "      <td>0.283323</td>\n",
       "      <td>0.561224</td>\n",
       "      <td>0.279070</td>\n",
       "      <td>0.566667</td>\n",
       "    </tr>\n",
       "    <tr>\n",
       "      <td>2394</td>\n",
       "      <td>0.193878</td>\n",
       "      <td>0.723529</td>\n",
       "      <td>0.55</td>\n",
       "      <td>0.483301</td>\n",
       "      <td>0.152174</td>\n",
       "      <td>0.189474</td>\n",
       "      <td>0.536946</td>\n",
       "      <td>0.685126</td>\n",
       "      <td>0.510204</td>\n",
       "      <td>0.313953</td>\n",
       "      <td>0.116667</td>\n",
       "    </tr>\n",
       "    <tr>\n",
       "      <td>642</td>\n",
       "      <td>0.193878</td>\n",
       "      <td>0.152941</td>\n",
       "      <td>0.33</td>\n",
       "      <td>0.522593</td>\n",
       "      <td>0.115942</td>\n",
       "      <td>0.224561</td>\n",
       "      <td>0.357143</td>\n",
       "      <td>0.623310</td>\n",
       "      <td>0.581633</td>\n",
       "      <td>0.325581</td>\n",
       "      <td>0.400000</td>\n",
       "    </tr>\n",
       "    <tr>\n",
       "      <td>4210</td>\n",
       "      <td>0.163265</td>\n",
       "      <td>0.105882</td>\n",
       "      <td>0.21</td>\n",
       "      <td>0.212181</td>\n",
       "      <td>0.130435</td>\n",
       "      <td>0.077193</td>\n",
       "      <td>0.246305</td>\n",
       "      <td>0.417257</td>\n",
       "      <td>0.295918</td>\n",
       "      <td>0.372093</td>\n",
       "      <td>0.300000</td>\n",
       "    </tr>\n",
       "    <tr>\n",
       "      <td>3628</td>\n",
       "      <td>0.204082</td>\n",
       "      <td>0.352941</td>\n",
       "      <td>0.20</td>\n",
       "      <td>0.184676</td>\n",
       "      <td>0.373188</td>\n",
       "      <td>0.185965</td>\n",
       "      <td>0.362069</td>\n",
       "      <td>0.461687</td>\n",
       "      <td>0.459184</td>\n",
       "      <td>0.244186</td>\n",
       "      <td>0.250000</td>\n",
       "    </tr>\n",
       "    <tr>\n",
       "      <td>4583</td>\n",
       "      <td>0.204082</td>\n",
       "      <td>0.176471</td>\n",
       "      <td>0.37</td>\n",
       "      <td>0.286837</td>\n",
       "      <td>0.130435</td>\n",
       "      <td>0.196491</td>\n",
       "      <td>0.285714</td>\n",
       "      <td>0.480361</td>\n",
       "      <td>0.071429</td>\n",
       "      <td>0.313953</td>\n",
       "      <td>0.216667</td>\n",
       "    </tr>\n",
       "  </tbody>\n",
       "</table>\n",
       "</div>"
      ],
      "text/plain": [
       "      fixed acidity  volatile acidity  citric acid  residual sugar  chlorides  \\\n",
       "2836       0.214286          0.164706         0.45        0.290766   0.141304   \n",
       "4089       0.244898          0.223529         0.24        0.157171   0.304348   \n",
       "675        0.173469          0.235294         0.25        0.247544   0.152174   \n",
       "1575       0.244898          0.105882         0.74        0.070727   0.141304   \n",
       "2570       0.224490          0.188235         0.28        0.047151   0.050725   \n",
       "2394       0.193878          0.723529         0.55        0.483301   0.152174   \n",
       "642        0.193878          0.152941         0.33        0.522593   0.115942   \n",
       "4210       0.163265          0.105882         0.21        0.212181   0.130435   \n",
       "3628       0.204082          0.352941         0.20        0.184676   0.373188   \n",
       "4583       0.204082          0.176471         0.37        0.286837   0.130435   \n",
       "\n",
       "      free sulfur dioxide  total sulfur dioxide   density        pH  \\\n",
       "2836             0.168421              0.399015  0.546040  0.448980   \n",
       "4089             0.112281              0.229064  0.431423  0.367347   \n",
       "675              0.140351              0.411330  0.520283  0.408163   \n",
       "1575             0.200000              0.364532  0.507405  0.857143   \n",
       "2570             0.122807              0.241379  0.283323  0.561224   \n",
       "2394             0.189474              0.536946  0.685126  0.510204   \n",
       "642              0.224561              0.357143  0.623310  0.581633   \n",
       "4210             0.077193              0.246305  0.417257  0.295918   \n",
       "3628             0.185965              0.362069  0.461687  0.459184   \n",
       "4583             0.196491              0.285714  0.480361  0.071429   \n",
       "\n",
       "      sulphates   alcohol  \n",
       "2836   0.302326  0.183333  \n",
       "4089   0.313953  0.266667  \n",
       "675    0.209302  0.183333  \n",
       "1575   0.627907  0.416667  \n",
       "2570   0.279070  0.566667  \n",
       "2394   0.313953  0.116667  \n",
       "642    0.325581  0.400000  \n",
       "4210   0.372093  0.300000  \n",
       "3628   0.244186  0.250000  \n",
       "4583   0.313953  0.216667  "
      ]
     },
     "execution_count": 308,
     "metadata": {},
     "output_type": "execute_result"
    }
   ],
   "source": [
    "def normalize(df):\n",
    "    result = df.copy()\n",
    "    for feature_name in df.columns:\n",
    "        max_value = df[feature_name].max()\n",
    "        min_value = df[feature_name].min()\n",
    "        result[feature_name] = (df[feature_name] - min_value) / (max_value - min_value)\n",
    "    return result\n",
    "X_train = normalize(X_train)\n",
    "X_train.head(10)"
   ]
  },
  {
   "cell_type": "code",
   "execution_count": 309,
   "metadata": {},
   "outputs": [
    {
     "name": "stderr",
     "output_type": "stream",
     "text": [
      "/opt/anaconda3/lib/python3.7/site-packages/ipykernel_launcher.py:2: DataConversionWarning: A column-vector y was passed when a 1d array was expected. Please change the shape of y to (n_samples, ), for example using ravel().\n",
      "  \n"
     ]
    },
    {
     "name": "stdout",
     "output_type": "stream",
     "text": [
      "0.9712121212121212\n"
     ]
    }
   ],
   "source": [
    "predictor = neighbors.KNeighborsClassifier(n_neighbors = 3)\n",
    "predictor.fit(X_train, y_train);\n",
    "\n",
    "print(predictor.score(X_test, y_test))"
   ]
  },
  {
   "cell_type": "markdown",
   "metadata": {},
   "source": [
    "Comparing the accuracy result of non-normalized vs. normalized datasets, I have only observe an increase of almost .03% in accuracy rate for min-max normalized dataset.\n",
    "\n",
    "Score of non-normalized: 0.9575757575757575\n",
    "\n",
    "Score of normalized: 0.9606060606060606"
   ]
  },
  {
   "cell_type": "markdown",
   "metadata": {},
   "source": [
    "**Answer Wine 5:**"
   ]
  },
  {
   "cell_type": "code",
   "execution_count": 310,
   "metadata": {},
   "outputs": [
    {
     "name": "stdout",
     "output_type": "stream",
     "text": [
      "RMSE value for k =  1 is: 0.2367712103711219\n",
      "RMSE value for k =  3 is: 0.20719385350268701\n",
      "RMSE value for k =  5 is: 0.19617555526835775\n",
      "RMSE value for k =  5 is: 0.19617555526835775\n",
      "RMSE value for k =  15 is: 0.18408020503444114\n",
      "RMSE value for k =  25 is: 0.1832170430076985\n",
      "RMSE value for k =  50 is: 0.1830913002914782\n"
     ]
    }
   ],
   "source": [
    "from sklearn.metrics import mean_squared_error\n",
    "from math import sqrt\n",
    "\n",
    "wine_2000_no_bin_classifer = wine.sample(n = 2000)\n",
    "X = wine_2000.iloc[:, [i for i in range(11)]]\n",
    "y = wine_2000.iloc[:, [11]]\n",
    "\n",
    "X_train, X_test, y_train, y_test = train_test_split(\n",
    "    X, y, test_size=0.33)\n",
    "\n",
    "k_choices = [1,3,5,5,15,25,50]\n",
    "\n",
    "for k in k_choices: \n",
    "    predictor = neighbors.KNeighborsRegressor(n_neighbors = k)\n",
    "    predictor.fit(X_train, y_train);\n",
    "    pred = predictor.predict(X_test)\n",
    "    error = sqrt(mean_squared_error(y_test,pred)) #calculate rmse\n",
    "    print('RMSE value for k = ' , k , 'is:', error)"
   ]
  },
  {
   "cell_type": "markdown",
   "metadata": {},
   "source": [
    "From observing the k values for KNN Regressor, we see that the RMSE decreases as we increase k."
   ]
  }
 ],
 "metadata": {
  "anaconda-cloud": {},
  "kernelspec": {
   "display_name": "Python 3",
   "language": "python",
   "name": "python3"
  },
  "language_info": {
   "codemirror_mode": {
    "name": "ipython",
    "version": 3
   },
   "file_extension": ".py",
   "mimetype": "text/x-python",
   "name": "python",
   "nbconvert_exporter": "python",
   "pygments_lexer": "ipython3",
   "version": "3.7.4"
  }
 },
 "nbformat": 4,
 "nbformat_minor": 1
}
